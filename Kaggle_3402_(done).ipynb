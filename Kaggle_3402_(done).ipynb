{
  "nbformat": 4,
  "nbformat_minor": 0,
  "metadata": {
    "colab": {
      "provenance": [],
      "machine_shape": "hm",
      "gpuType": "A100"
    },
    "kernelspec": {
      "name": "python3",
      "display_name": "Python 3"
    },
    "language_info": {
      "name": "python"
    },
    "accelerator": "GPU"
  },
  "cells": [
    {
      "cell_type": "code",
      "execution_count": 1,
      "metadata": {
        "id": "f03fr4hfaBtt"
      },
      "outputs": [],
      "source": [
        "#import libraries\n",
        "import pandas as pd\n",
        "import numpy as np\n",
        "import matplotlib.pyplot as plt\n",
        "from sklearn.model_selection import train_test_split\n",
        "from sklearn.pipeline import Pipeline\n",
        "from sklearn.linear_model import LinearRegression\n",
        "from sklearn.metrics import mean_squared_error, r2_score\n",
        "import os\n",
        "from sklearn.preprocessing import LabelEncoder\n",
        "from sklearn.feature_selection import SelectKBest, chi2"
      ]
    },
    {
      "cell_type": "code",
      "source": [
        "!pip install -q kaggle"
      ],
      "metadata": {
        "id": "DWTj-B2SbmYG"
      },
      "execution_count": 2,
      "outputs": []
    },
    {
      "cell_type": "code",
      "source": [
        "!mkdir ~/.kaggle\n",
        "!cp kaggle.json ~/.kaggle/"
      ],
      "metadata": {
        "id": "0eoMNaS9bn41"
      },
      "execution_count": 3,
      "outputs": []
    },
    {
      "cell_type": "code",
      "source": [
        "!chmod 600 ~/.kaggle/kaggle.json"
      ],
      "metadata": {
        "id": "FmhyECK-bpEY"
      },
      "execution_count": 4,
      "outputs": []
    },
    {
      "cell_type": "code",
      "source": [
        "#!kaggle datasets list"
      ],
      "metadata": {
        "id": "nnvCoom_bpla"
      },
      "execution_count": 5,
      "outputs": []
    },
    {
      "cell_type": "code",
      "source": [
        "!kaggle competitions download -c santander-product-recommendation"
      ],
      "metadata": {
        "colab": {
          "base_uri": "https://localhost:8080/"
        },
        "id": "0YWHuMzkbxYv",
        "outputId": "2d792a73-1fa1-45a7-f2b9-fbdbadbdbbfe"
      },
      "execution_count": 6,
      "outputs": [
        {
          "output_type": "stream",
          "name": "stdout",
          "text": [
            "Downloading santander-product-recommendation.zip to /content\n",
            "100% 228M/228M [00:13<00:00, 16.8MB/s]\n",
            "100% 228M/228M [00:13<00:00, 18.1MB/s]\n"
          ]
        }
      ]
    },
    {
      "cell_type": "code",
      "source": [
        "!mkdir santander-product-recommendation"
      ],
      "metadata": {
        "id": "Bzs6cp-QbzSN"
      },
      "execution_count": 7,
      "outputs": []
    },
    {
      "cell_type": "code",
      "source": [
        "!unzip santander-product-recommendation.zip -d train"
      ],
      "metadata": {
        "colab": {
          "base_uri": "https://localhost:8080/"
        },
        "id": "dGOifQK1b0o4",
        "outputId": "2a36a20b-b37e-4edb-c710-05d7a4ad2b83"
      },
      "execution_count": 8,
      "outputs": [
        {
          "output_type": "stream",
          "name": "stdout",
          "text": [
            "Archive:  santander-product-recommendation.zip\n",
            "  inflating: train/sample_submission.csv.zip  \n",
            "  inflating: train/test_ver2.csv.zip  \n",
            "  inflating: train/train_ver2.csv.zip  \n"
          ]
        }
      ]
    },
    {
      "cell_type": "code",
      "source": [
        "!unzip train/sample_submission.csv.zip -d train"
      ],
      "metadata": {
        "colab": {
          "base_uri": "https://localhost:8080/"
        },
        "id": "FFkYoBumb133",
        "outputId": "fa42dac8-3419-4e03-b838-d65c87874863"
      },
      "execution_count": 9,
      "outputs": [
        {
          "output_type": "stream",
          "name": "stdout",
          "text": [
            "Archive:  train/sample_submission.csv.zip\n",
            "  inflating: train/sample_submission.csv  \n"
          ]
        }
      ]
    },
    {
      "cell_type": "code",
      "source": [
        "!unzip train/test_ver2.csv.zip -d train"
      ],
      "metadata": {
        "colab": {
          "base_uri": "https://localhost:8080/"
        },
        "id": "Q0TveaLMb3mf",
        "outputId": "ce94f855-6e05-4337-894e-744429be9e2d"
      },
      "execution_count": 10,
      "outputs": [
        {
          "output_type": "stream",
          "name": "stdout",
          "text": [
            "Archive:  train/test_ver2.csv.zip\n",
            "  inflating: train/test_ver2.csv     \n"
          ]
        }
      ]
    },
    {
      "cell_type": "code",
      "source": [
        "!unzip train/train_ver2.csv.zip -d train"
      ],
      "metadata": {
        "colab": {
          "base_uri": "https://localhost:8080/"
        },
        "id": "6PAw3NG1b5DJ",
        "outputId": "c2a6e4b8-95c5-4b89-9b70-ce1832299bfc"
      },
      "execution_count": 11,
      "outputs": [
        {
          "output_type": "stream",
          "name": "stdout",
          "text": [
            "Archive:  train/train_ver2.csv.zip\n",
            "  inflating: train/train_ver2.csv    \n"
          ]
        }
      ]
    },
    {
      "cell_type": "code",
      "source": [
        "!ls"
      ],
      "metadata": {
        "colab": {
          "base_uri": "https://localhost:8080/"
        },
        "id": "-uB4_wMEb7gZ",
        "outputId": "6746b582-8103-4225-de1d-58b66025f877"
      },
      "execution_count": 12,
      "outputs": [
        {
          "output_type": "stream",
          "name": "stdout",
          "text": [
            "kaggle.json  santander-product-recommendation\t   train\n",
            "sample_data  santander-product-recommendation.zip\n"
          ]
        }
      ]
    },
    {
      "cell_type": "code",
      "source": [
        "## Rows and Columns"
      ],
      "metadata": {
        "id": "QsggxhhQb8q7"
      },
      "execution_count": 13,
      "outputs": []
    },
    {
      "cell_type": "code",
      "source": [
        "df = pd.read_csv('/content/train/train_ver2.csv', nrows=500000)\n",
        "\n",
        "\n",
        "# Display the first few rows of the dataframe\n",
        "print(df.head())"
      ],
      "metadata": {
        "colab": {
          "base_uri": "https://localhost:8080/"
        },
        "id": "dUYy_g3icCsG",
        "outputId": "67592e9a-e171-4407-a83e-f6f6898187ae"
      },
      "execution_count": 14,
      "outputs": [
        {
          "output_type": "stream",
          "name": "stderr",
          "text": [
            "<ipython-input-14-6a481a7af399>:1: DtypeWarning: Columns (15) have mixed types. Specify dtype option on import or set low_memory=False.\n",
            "  df = pd.read_csv('/content/train/train_ver2.csv', nrows=500000)\n"
          ]
        },
        {
          "output_type": "stream",
          "name": "stdout",
          "text": [
            "   fecha_dato  ncodpers ind_empleado pais_residencia sexo  age  fecha_alta  \\\n",
            "0  2015-01-28   1375586            N              ES    H   35  2015-01-12   \n",
            "1  2015-01-28   1050611            N              ES    V   23  2012-08-10   \n",
            "2  2015-01-28   1050612            N              ES    V   23  2012-08-10   \n",
            "3  2015-01-28   1050613            N              ES    H   22  2012-08-10   \n",
            "4  2015-01-28   1050614            N              ES    V   23  2012-08-10   \n",
            "\n",
            "   ind_nuevo antiguedad  indrel  ... ind_hip_fin_ult1  ind_plan_fin_ult1  \\\n",
            "0        0.0          6     1.0  ...                0                  0   \n",
            "1        0.0         35     1.0  ...                0                  0   \n",
            "2        0.0         35     1.0  ...                0                  0   \n",
            "3        0.0         35     1.0  ...                0                  0   \n",
            "4        0.0         35     1.0  ...                0                  0   \n",
            "\n",
            "  ind_pres_fin_ult1 ind_reca_fin_ult1 ind_tjcr_fin_ult1 ind_valo_fin_ult1  \\\n",
            "0                 0                 0                 0                 0   \n",
            "1                 0                 0                 0                 0   \n",
            "2                 0                 0                 0                 0   \n",
            "3                 0                 0                 0                 0   \n",
            "4                 0                 0                 0                 0   \n",
            "\n",
            "  ind_viv_fin_ult1 ind_nomina_ult1  ind_nom_pens_ult1  ind_recibo_ult1  \n",
            "0                0             0.0                0.0                0  \n",
            "1                0             0.0                0.0                0  \n",
            "2                0             0.0                0.0                0  \n",
            "3                0             0.0                0.0                0  \n",
            "4                0             0.0                0.0                0  \n",
            "\n",
            "[5 rows x 48 columns]\n"
          ]
        }
      ]
    },
    {
      "cell_type": "code",
      "source": [
        "### missing values"
      ],
      "metadata": {
        "id": "_2UeD_IGhIXB"
      },
      "execution_count": 15,
      "outputs": []
    },
    {
      "cell_type": "code",
      "source": [
        "missing_percentage = (df.isnull().sum() / len(df)) * 100\n",
        "\n",
        "missing_df = pd.DataFrame({'Column': missing_percentage.index, 'Missing Percentage': missing_percentage.values})\n",
        "\n",
        "missing_df = missing_df.sort_values(by='Missing Percentage', ascending=False)\n",
        "\n",
        "print(missing_df)\n"
      ],
      "metadata": {
        "colab": {
          "base_uri": "https://localhost:8080/"
        },
        "id": "ZnQqqsq_hKMY",
        "outputId": "71884f18-268e-4e14-f580-8a696e2cb3c6"
      },
      "execution_count": 16,
      "outputs": [
        {
          "output_type": "stream",
          "name": "stdout",
          "text": [
            "                   Column  Missing Percentage\n",
            "15               conyuemp             99.9822\n",
            "10         ult_fec_cli_1t             99.8680\n",
            "22                  renta             17.7802\n",
            "19               cod_prov              1.5590\n",
            "20                nomprov              1.5590\n",
            "23               segmento              1.0886\n",
            "16          canal_entrada              1.0858\n",
            "4                    sexo              1.0780\n",
            "13                indresi              1.0778\n",
            "12            tiprel_1mes              1.0778\n",
            "14                 indext              1.0778\n",
            "3         pais_residencia              1.0778\n",
            "7               ind_nuevo              1.0778\n",
            "11            indrel_1mes              1.0778\n",
            "6              fecha_alta              1.0778\n",
            "2            ind_empleado              1.0778\n",
            "9                  indrel              1.0778\n",
            "17                indfall              1.0778\n",
            "18                tipodom              1.0778\n",
            "21  ind_actividad_cliente              1.0778\n",
            "46      ind_nom_pens_ult1              0.4532\n",
            "45        ind_nomina_ult1              0.4532\n",
            "0              fecha_dato              0.0000\n",
            "5                     age              0.0000\n",
            "8              antiguedad              0.0000\n",
            "1                ncodpers              0.0000\n",
            "24      ind_ahor_fin_ult1              0.0000\n",
            "25      ind_aval_fin_ult1              0.0000\n",
            "28       ind_cno_fin_ult1              0.0000\n",
            "29      ind_ctju_fin_ult1              0.0000\n",
            "26       ind_cco_fin_ult1              0.0000\n",
            "27      ind_cder_fin_ult1              0.0000\n",
            "31      ind_ctop_fin_ult1              0.0000\n",
            "30      ind_ctma_fin_ult1              0.0000\n",
            "32      ind_ctpp_fin_ult1              0.0000\n",
            "33      ind_deco_fin_ult1              0.0000\n",
            "36      ind_ecue_fin_ult1              0.0000\n",
            "37      ind_fond_fin_ult1              0.0000\n",
            "34      ind_deme_fin_ult1              0.0000\n",
            "35      ind_dela_fin_ult1              0.0000\n",
            "39      ind_plan_fin_ult1              0.0000\n",
            "38       ind_hip_fin_ult1              0.0000\n",
            "40      ind_pres_fin_ult1              0.0000\n",
            "41      ind_reca_fin_ult1              0.0000\n",
            "43      ind_valo_fin_ult1              0.0000\n",
            "42      ind_tjcr_fin_ult1              0.0000\n",
            "44       ind_viv_fin_ult1              0.0000\n",
            "47        ind_recibo_ult1              0.0000\n"
          ]
        }
      ]
    },
    {
      "cell_type": "markdown",
      "source": [
        "Most likely drop the first 2 columns because they have more missing values than any at all."
      ],
      "metadata": {
        "id": "E8NdPyXmhnad"
      }
    },
    {
      "cell_type": "code",
      "source": [
        "## df1 aka dropping the nan columns...\n",
        "\n",
        "columns_to_drop = ['conyuemp', 'ult_fec_cli_1t']\n",
        "df1 = df.drop(columns=columns_to_drop)\n",
        "\n",
        "print(df1.head())\n"
      ],
      "metadata": {
        "colab": {
          "base_uri": "https://localhost:8080/"
        },
        "id": "aa4EYcYFhycB",
        "outputId": "979b9611-bcf4-4f05-cffe-631a39161abf"
      },
      "execution_count": 17,
      "outputs": [
        {
          "output_type": "stream",
          "name": "stdout",
          "text": [
            "   fecha_dato  ncodpers ind_empleado pais_residencia sexo  age  fecha_alta  \\\n",
            "0  2015-01-28   1375586            N              ES    H   35  2015-01-12   \n",
            "1  2015-01-28   1050611            N              ES    V   23  2012-08-10   \n",
            "2  2015-01-28   1050612            N              ES    V   23  2012-08-10   \n",
            "3  2015-01-28   1050613            N              ES    H   22  2012-08-10   \n",
            "4  2015-01-28   1050614            N              ES    V   23  2012-08-10   \n",
            "\n",
            "   ind_nuevo antiguedad  indrel  ...  ind_hip_fin_ult1 ind_plan_fin_ult1  \\\n",
            "0        0.0          6     1.0  ...                 0                 0   \n",
            "1        0.0         35     1.0  ...                 0                 0   \n",
            "2        0.0         35     1.0  ...                 0                 0   \n",
            "3        0.0         35     1.0  ...                 0                 0   \n",
            "4        0.0         35     1.0  ...                 0                 0   \n",
            "\n",
            "  ind_pres_fin_ult1 ind_reca_fin_ult1 ind_tjcr_fin_ult1 ind_valo_fin_ult1  \\\n",
            "0                 0                 0                 0                 0   \n",
            "1                 0                 0                 0                 0   \n",
            "2                 0                 0                 0                 0   \n",
            "3                 0                 0                 0                 0   \n",
            "4                 0                 0                 0                 0   \n",
            "\n",
            "   ind_viv_fin_ult1  ind_nomina_ult1 ind_nom_pens_ult1  ind_recibo_ult1  \n",
            "0                 0              0.0               0.0                0  \n",
            "1                 0              0.0               0.0                0  \n",
            "2                 0              0.0               0.0                0  \n",
            "3                 0              0.0               0.0                0  \n",
            "4                 0              0.0               0.0                0  \n",
            "\n",
            "[5 rows x 46 columns]\n"
          ]
        }
      ]
    },
    {
      "cell_type": "markdown",
      "source": [
        "Dropped also the unnessary columns like the ID and province since we have other columns that are specific, like rent can tell more about the cost of living more. There's also columns stating whether they are foreign or not and their primary address."
      ],
      "metadata": {
        "id": "IoHkBP07jCvs"
      }
    },
    {
      "cell_type": "code",
      "source": [
        "num_features = len(df1.columns)\n",
        "\n",
        "numerical_features = []\n",
        "categorical_features = []\n",
        "\n",
        "for column in df1.columns:\n",
        "    if df1[column].dtype == 'object':\n",
        "        categorical_features.append(column)\n",
        "    else:\n",
        "        numerical_features.append(column)\n",
        "\n",
        "print(f\"Number of features: {num_features}\")\n",
        "print(\"\\nNumerical Features:\")\n",
        "print(numerical_features)\n",
        "print(\"\\nCategorical Features:\")\n",
        "print(categorical_features)\n"
      ],
      "metadata": {
        "colab": {
          "base_uri": "https://localhost:8080/"
        },
        "id": "OmrCIsBioiOn",
        "outputId": "685990d4-47c4-4c07-a46c-b4b642be928e"
      },
      "execution_count": 18,
      "outputs": [
        {
          "output_type": "stream",
          "name": "stdout",
          "text": [
            "Number of features: 46\n",
            "\n",
            "Numerical Features:\n",
            "['ncodpers', 'ind_nuevo', 'indrel', 'indrel_1mes', 'tipodom', 'cod_prov', 'ind_actividad_cliente', 'renta', 'ind_ahor_fin_ult1', 'ind_aval_fin_ult1', 'ind_cco_fin_ult1', 'ind_cder_fin_ult1', 'ind_cno_fin_ult1', 'ind_ctju_fin_ult1', 'ind_ctma_fin_ult1', 'ind_ctop_fin_ult1', 'ind_ctpp_fin_ult1', 'ind_deco_fin_ult1', 'ind_deme_fin_ult1', 'ind_dela_fin_ult1', 'ind_ecue_fin_ult1', 'ind_fond_fin_ult1', 'ind_hip_fin_ult1', 'ind_plan_fin_ult1', 'ind_pres_fin_ult1', 'ind_reca_fin_ult1', 'ind_tjcr_fin_ult1', 'ind_valo_fin_ult1', 'ind_viv_fin_ult1', 'ind_nomina_ult1', 'ind_nom_pens_ult1', 'ind_recibo_ult1']\n",
            "\n",
            "Categorical Features:\n",
            "['fecha_dato', 'ind_empleado', 'pais_residencia', 'sexo', 'age', 'fecha_alta', 'antiguedad', 'tiprel_1mes', 'indresi', 'indext', 'canal_entrada', 'indfall', 'nomprov', 'segmento']\n"
          ]
        }
      ]
    },
    {
      "cell_type": "markdown",
      "source": [
        "The age (Age) and antiguedad (Customer seniority in months) are numerical based on the description but they were counted as categorical... I feel like it is important so I am going to keep it"
      ],
      "metadata": {
        "id": "ThWh9uvNpUoA"
      }
    },
    {
      "cell_type": "code",
      "source": [
        "# Correct categorization for 'age' and 'antiguedad' features\n",
        "\n",
        "if 'age' in categorical_features:\n",
        "    categorical_features.remove('age')\n",
        "    numerical_features.append('age')\n",
        "if 'antiguedad' in categorical_features:\n",
        "    categorical_features.remove('antiguedad')\n",
        "    numerical_features.append('antiguedad')\n",
        "\n",
        "print(f\"Number of features: {num_features}\")\n",
        "print(\"\\nNumerical Features:\")\n",
        "print(numerical_features)\n",
        "print(\"\\nCategorical Features:\")\n",
        "print(categorical_features)"
      ],
      "metadata": {
        "colab": {
          "base_uri": "https://localhost:8080/"
        },
        "id": "4rFggRZcpyPl",
        "outputId": "a43637eb-5b15-4043-caf7-88b41e9c6223"
      },
      "execution_count": 19,
      "outputs": [
        {
          "output_type": "stream",
          "name": "stdout",
          "text": [
            "Number of features: 46\n",
            "\n",
            "Numerical Features:\n",
            "['ncodpers', 'ind_nuevo', 'indrel', 'indrel_1mes', 'tipodom', 'cod_prov', 'ind_actividad_cliente', 'renta', 'ind_ahor_fin_ult1', 'ind_aval_fin_ult1', 'ind_cco_fin_ult1', 'ind_cder_fin_ult1', 'ind_cno_fin_ult1', 'ind_ctju_fin_ult1', 'ind_ctma_fin_ult1', 'ind_ctop_fin_ult1', 'ind_ctpp_fin_ult1', 'ind_deco_fin_ult1', 'ind_deme_fin_ult1', 'ind_dela_fin_ult1', 'ind_ecue_fin_ult1', 'ind_fond_fin_ult1', 'ind_hip_fin_ult1', 'ind_plan_fin_ult1', 'ind_pres_fin_ult1', 'ind_reca_fin_ult1', 'ind_tjcr_fin_ult1', 'ind_valo_fin_ult1', 'ind_viv_fin_ult1', 'ind_nomina_ult1', 'ind_nom_pens_ult1', 'ind_recibo_ult1', 'age', 'antiguedad']\n",
            "\n",
            "Categorical Features:\n",
            "['fecha_dato', 'ind_empleado', 'pais_residencia', 'sexo', 'fecha_alta', 'tiprel_1mes', 'indresi', 'indext', 'canal_entrada', 'indfall', 'nomprov', 'segmento']\n"
          ]
        }
      ]
    },
    {
      "cell_type": "code",
      "source": [
        "numerical_df1 = df1[numerical_features]\n",
        "print(numerical_df1.head())"
      ],
      "metadata": {
        "colab": {
          "base_uri": "https://localhost:8080/"
        },
        "id": "hgaYHlrn_8wd",
        "outputId": "0977de39-ee0b-46cd-ebee-8b52c7992f12"
      },
      "execution_count": 20,
      "outputs": [
        {
          "output_type": "stream",
          "name": "stdout",
          "text": [
            "   ncodpers  ind_nuevo  indrel  indrel_1mes  tipodom  cod_prov  \\\n",
            "0   1375586        0.0     1.0          1.0      1.0      29.0   \n",
            "1   1050611        0.0     1.0          1.0      1.0      13.0   \n",
            "2   1050612        0.0     1.0          1.0      1.0      13.0   \n",
            "3   1050613        0.0     1.0          1.0      1.0      50.0   \n",
            "4   1050614        0.0     1.0          1.0      1.0      50.0   \n",
            "\n",
            "   ind_actividad_cliente      renta  ind_ahor_fin_ult1  ind_aval_fin_ult1  \\\n",
            "0                    1.0   87218.10                  0                  0   \n",
            "1                    0.0   35548.74                  0                  0   \n",
            "2                    0.0  122179.11                  0                  0   \n",
            "3                    0.0  119775.54                  0                  0   \n",
            "4                    1.0        NaN                  0                  0   \n",
            "\n",
            "   ...  ind_pres_fin_ult1  ind_reca_fin_ult1  ind_tjcr_fin_ult1  \\\n",
            "0  ...                  0                  0                  0   \n",
            "1  ...                  0                  0                  0   \n",
            "2  ...                  0                  0                  0   \n",
            "3  ...                  0                  0                  0   \n",
            "4  ...                  0                  0                  0   \n",
            "\n",
            "   ind_valo_fin_ult1  ind_viv_fin_ult1  ind_nomina_ult1  ind_nom_pens_ult1  \\\n",
            "0                  0                 0              0.0                0.0   \n",
            "1                  0                 0              0.0                0.0   \n",
            "2                  0                 0              0.0                0.0   \n",
            "3                  0                 0              0.0                0.0   \n",
            "4                  0                 0              0.0                0.0   \n",
            "\n",
            "   ind_recibo_ult1  age  antiguedad  \n",
            "0                0   35           6  \n",
            "1                0   23          35  \n",
            "2                0   23          35  \n",
            "3                0   22          35  \n",
            "4                0   23          35  \n",
            "\n",
            "[5 rows x 34 columns]\n"
          ]
        }
      ]
    },
    {
      "cell_type": "code",
      "source": [
        "## checking smallest and largest value of each column\n",
        "\n",
        "feature_min_max = numerical_df1.agg(['min', 'max'])\n",
        "\n",
        "print(\"Smallest and Largest Values of Numerical Features:\\n\")\n",
        "\n",
        "print(feature_min_max)"
      ],
      "metadata": {
        "colab": {
          "base_uri": "https://localhost:8080/"
        },
        "id": "pH17y2LGCyub",
        "outputId": "96be8b08-f357-4904-9a5e-cd564b3d3a71"
      },
      "execution_count": 21,
      "outputs": [
        {
          "output_type": "stream",
          "name": "stdout",
          "text": [
            "Smallest and Largest Values of Numerical Features:\n",
            "\n",
            "     ncodpers  ind_nuevo  indrel  indrel_1mes  tipodom  cod_prov  \\\n",
            "min     15889        0.0     1.0          1.0      1.0       1.0   \n",
            "max   1379131        1.0    99.0          3.0      1.0      52.0   \n",
            "\n",
            "     ind_actividad_cliente        renta  ind_ahor_fin_ult1  ind_aval_fin_ult1  \\\n",
            "min                    0.0      1202.73                  0                  0   \n",
            "max                    1.0  28894395.51                  1                  1   \n",
            "\n",
            "     ...  ind_pres_fin_ult1  ind_reca_fin_ult1  ind_tjcr_fin_ult1  \\\n",
            "min  ...                  0                  0                  0   \n",
            "max  ...                  1                  1                  1   \n",
            "\n",
            "     ind_valo_fin_ult1  ind_viv_fin_ult1  ind_nomina_ult1  ind_nom_pens_ult1  \\\n",
            "min                  0                 0              0.0                0.0   \n",
            "max                  1                 1              1.0                1.0   \n",
            "\n",
            "     ind_recibo_ult1  age  antiguedad  \n",
            "min                0    2           0  \n",
            "max                1  116     -999999  \n",
            "\n",
            "[2 rows x 34 columns]\n"
          ]
        }
      ]
    },
    {
      "cell_type": "markdown",
      "source": [
        "Everything has a reasonable range based on the description but the antiguedad aka Customer seniority (in months), the min is -999999.0\n",
        "\n",
        "I'm gonna change all the negative to zero in this column..."
      ],
      "metadata": {
        "id": "XFkA_w9FGI5g"
      }
    },
    {
      "cell_type": "code",
      "source": [
        "df1['antiguedad'] = pd.to_numeric(df1['antiguedad'], errors='coerce')\n",
        "\n",
        "df1['antiguedad'] = df1['antiguedad'].apply(lambda x: max(0, x))\n",
        "\n",
        "print(df1['antiguedad'])"
      ],
      "metadata": {
        "colab": {
          "base_uri": "https://localhost:8080/"
        },
        "id": "25CAo4p6GIHq",
        "outputId": "5428971d-36f3-4260-ef15-2eb3916e770f"
      },
      "execution_count": 22,
      "outputs": [
        {
          "output_type": "stream",
          "name": "stdout",
          "text": [
            "0           6.0\n",
            "1          35.0\n",
            "2          35.0\n",
            "3          35.0\n",
            "4          35.0\n",
            "          ...  \n",
            "499995    103.0\n",
            "499996    103.0\n",
            "499997    103.0\n",
            "499998    103.0\n",
            "499999     76.0\n",
            "Name: antiguedad, Length: 500000, dtype: float64\n"
          ]
        }
      ]
    },
    {
      "cell_type": "code",
      "source": [
        "print(\"Minimum value of 'antiguedad':\", df1['antiguedad'].min())\n",
        "print(\"Maximum value of 'antiguedad':\", df1['antiguedad'].max())"
      ],
      "metadata": {
        "colab": {
          "base_uri": "https://localhost:8080/"
        },
        "id": "jDvjRQuuG5Lk",
        "outputId": "b8076b68-5106-4852-b882-ec7e673630f3"
      },
      "execution_count": 23,
      "outputs": [
        {
          "output_type": "stream",
          "name": "stdout",
          "text": [
            "Minimum value of 'antiguedad': 0.0\n",
            "Maximum value of 'antiguedad': 246.0\n"
          ]
        }
      ]
    },
    {
      "cell_type": "code",
      "source": [
        "categorical_df1= df1[categorical_features]\n",
        "print(categorical_df1.head())"
      ],
      "metadata": {
        "colab": {
          "base_uri": "https://localhost:8080/"
        },
        "id": "vVIR86tVAwiD",
        "outputId": "3795ffef-8f4d-45cb-b88a-44ffa324c57b"
      },
      "execution_count": 24,
      "outputs": [
        {
          "output_type": "stream",
          "name": "stdout",
          "text": [
            "   fecha_dato ind_empleado pais_residencia sexo  fecha_alta tiprel_1mes  \\\n",
            "0  2015-01-28            N              ES    H  2015-01-12           A   \n",
            "1  2015-01-28            N              ES    V  2012-08-10           I   \n",
            "2  2015-01-28            N              ES    V  2012-08-10           I   \n",
            "3  2015-01-28            N              ES    H  2012-08-10           I   \n",
            "4  2015-01-28            N              ES    V  2012-08-10           A   \n",
            "\n",
            "  indresi indext canal_entrada indfall      nomprov            segmento  \n",
            "0       S      N           KHL       N       MALAGA   02 - PARTICULARES  \n",
            "1       S      S           KHE       N  CIUDAD REAL  03 - UNIVERSITARIO  \n",
            "2       S      N           KHE       N  CIUDAD REAL  03 - UNIVERSITARIO  \n",
            "3       S      N           KHD       N     ZARAGOZA  03 - UNIVERSITARIO  \n",
            "4       S      N           KHE       N     ZARAGOZA  03 - UNIVERSITARIO  \n"
          ]
        }
      ]
    },
    {
      "cell_type": "code",
      "source": [
        "print(df1.head())\n"
      ],
      "metadata": {
        "colab": {
          "base_uri": "https://localhost:8080/"
        },
        "id": "MGIgYVeWuVAa",
        "outputId": "3dfa2d6e-05b4-41ab-afcf-dc8292754c14"
      },
      "execution_count": 25,
      "outputs": [
        {
          "output_type": "stream",
          "name": "stdout",
          "text": [
            "   fecha_dato  ncodpers ind_empleado pais_residencia sexo  age  fecha_alta  \\\n",
            "0  2015-01-28   1375586            N              ES    H   35  2015-01-12   \n",
            "1  2015-01-28   1050611            N              ES    V   23  2012-08-10   \n",
            "2  2015-01-28   1050612            N              ES    V   23  2012-08-10   \n",
            "3  2015-01-28   1050613            N              ES    H   22  2012-08-10   \n",
            "4  2015-01-28   1050614            N              ES    V   23  2012-08-10   \n",
            "\n",
            "   ind_nuevo  antiguedad  indrel  ...  ind_hip_fin_ult1 ind_plan_fin_ult1  \\\n",
            "0        0.0         6.0     1.0  ...                 0                 0   \n",
            "1        0.0        35.0     1.0  ...                 0                 0   \n",
            "2        0.0        35.0     1.0  ...                 0                 0   \n",
            "3        0.0        35.0     1.0  ...                 0                 0   \n",
            "4        0.0        35.0     1.0  ...                 0                 0   \n",
            "\n",
            "  ind_pres_fin_ult1 ind_reca_fin_ult1 ind_tjcr_fin_ult1 ind_valo_fin_ult1  \\\n",
            "0                 0                 0                 0                 0   \n",
            "1                 0                 0                 0                 0   \n",
            "2                 0                 0                 0                 0   \n",
            "3                 0                 0                 0                 0   \n",
            "4                 0                 0                 0                 0   \n",
            "\n",
            "   ind_viv_fin_ult1  ind_nomina_ult1 ind_nom_pens_ult1  ind_recibo_ult1  \n",
            "0                 0              0.0               0.0                0  \n",
            "1                 0              0.0               0.0                0  \n",
            "2                 0              0.0               0.0                0  \n",
            "3                 0              0.0               0.0                0  \n",
            "4                 0              0.0               0.0                0  \n",
            "\n",
            "[5 rows x 46 columns]\n"
          ]
        }
      ]
    },
    {
      "cell_type": "code",
      "source": [
        "print(\"Updated Categorical Features:\")\n",
        "print(categorical_features)"
      ],
      "metadata": {
        "colab": {
          "base_uri": "https://localhost:8080/"
        },
        "id": "KA-YVV8YGm7l",
        "outputId": "960c5cad-4b16-4d4b-ae48-946695cae38e"
      },
      "execution_count": 26,
      "outputs": [
        {
          "output_type": "stream",
          "name": "stdout",
          "text": [
            "Updated Categorical Features:\n",
            "['fecha_dato', 'ind_empleado', 'pais_residencia', 'sexo', 'fecha_alta', 'tiprel_1mes', 'indresi', 'indext', 'canal_entrada', 'indfall', 'nomprov', 'segmento']\n"
          ]
        }
      ]
    },
    {
      "cell_type": "code",
      "source": [
        "import seaborn as sns\n",
        "\n",
        "# Summary statistics\n",
        "print(df1[numerical_features].describe())"
      ],
      "metadata": {
        "colab": {
          "base_uri": "https://localhost:8080/"
        },
        "id": "YKPBfQr4-Y3X",
        "outputId": "5c6d7ec0-b2a7-4dd8-df12-2e9ce12224cd"
      },
      "execution_count": 27,
      "outputs": [
        {
          "output_type": "stream",
          "name": "stdout",
          "text": [
            "           ncodpers      ind_nuevo         indrel    indrel_1mes   tipodom  \\\n",
            "count  5.000000e+05  494611.000000  494611.000000  494611.000000  494611.0   \n",
            "mean   8.171304e+05       0.000303       1.130769       1.000091       1.0   \n",
            "std    4.381616e+05       0.017412       3.577475       0.013414       0.0   \n",
            "min    1.588900e+04       0.000000       1.000000       1.000000       1.0   \n",
            "25%    3.362618e+05       0.000000       1.000000       1.000000       1.0   \n",
            "50%    9.856585e+05       0.000000       1.000000       1.000000       1.0   \n",
            "75%    1.177883e+06       0.000000       1.000000       1.000000       1.0   \n",
            "max    1.379131e+06       1.000000      99.000000       3.000000       1.0   \n",
            "\n",
            "            cod_prov  ind_actividad_cliente         renta  ind_ahor_fin_ult1  \\\n",
            "count  492205.000000          494611.000000  4.110990e+05      500000.000000   \n",
            "mean       26.395049               0.519503  1.318600e+05           0.000128   \n",
            "std        12.844092               0.499620  2.293840e+05           0.011313   \n",
            "min         1.000000               0.000000  1.202730e+03           0.000000   \n",
            "25%        15.000000               0.000000  6.748633e+04           0.000000   \n",
            "50%        28.000000               1.000000  9.982623e+04           0.000000   \n",
            "75%        35.000000               1.000000  1.531584e+05           0.000000   \n",
            "max        52.000000               1.000000  2.889440e+07           1.000000   \n",
            "\n",
            "       ind_aval_fin_ult1  ...  ind_plan_fin_ult1  ind_pres_fin_ult1  \\\n",
            "count      500000.000000  ...      500000.000000      500000.000000   \n",
            "mean            0.000030  ...           0.012268           0.002858   \n",
            "std             0.005477  ...           0.110080           0.053384   \n",
            "min             0.000000  ...           0.000000           0.000000   \n",
            "25%             0.000000  ...           0.000000           0.000000   \n",
            "50%             0.000000  ...           0.000000           0.000000   \n",
            "75%             0.000000  ...           0.000000           0.000000   \n",
            "max             1.000000  ...           1.000000           1.000000   \n",
            "\n",
            "       ind_reca_fin_ult1  ind_tjcr_fin_ult1  ind_valo_fin_ult1  \\\n",
            "count      500000.000000      500000.000000      500000.000000   \n",
            "mean            0.054782           0.052790           0.031266   \n",
            "std             0.227554           0.223614           0.174036   \n",
            "min             0.000000           0.000000           0.000000   \n",
            "25%             0.000000           0.000000           0.000000   \n",
            "50%             0.000000           0.000000           0.000000   \n",
            "75%             0.000000           0.000000           0.000000   \n",
            "max             1.000000           1.000000           1.000000   \n",
            "\n",
            "       ind_viv_fin_ult1  ind_nomina_ult1  ind_nom_pens_ult1  ind_recibo_ult1  \\\n",
            "count     500000.000000    497734.000000      497734.000000    500000.000000   \n",
            "mean           0.004590         0.060213           0.067215         0.148174   \n",
            "std            0.067594         0.237881           0.250394         0.355273   \n",
            "min            0.000000         0.000000           0.000000         0.000000   \n",
            "25%            0.000000         0.000000           0.000000         0.000000   \n",
            "50%            0.000000         0.000000           0.000000         0.000000   \n",
            "75%            0.000000         0.000000           0.000000         0.000000   \n",
            "max            1.000000         1.000000           1.000000         1.000000   \n",
            "\n",
            "          antiguedad  \n",
            "count  500000.000000  \n",
            "mean       76.784242  \n",
            "std        70.310297  \n",
            "min         0.000000  \n",
            "25%        21.000000  \n",
            "50%        43.000000  \n",
            "75%       156.000000  \n",
            "max       246.000000  \n",
            "\n",
            "[8 rows x 33 columns]\n"
          ]
        }
      ]
    },
    {
      "cell_type": "code",
      "source": [
        "## Missing values and Outliers"
      ],
      "metadata": {
        "id": "fbZ9Prekjl6B"
      },
      "execution_count": 28,
      "outputs": []
    },
    {
      "cell_type": "code",
      "source": [
        "missing_values_count = df1.isnull().sum()\n",
        "missing_values_count_sorted = missing_values_count.sort_values(ascending=False)\n",
        "\n",
        "outliers = df1.describe().transpose()\n",
        "\n",
        "print(\"Missing Values Count (Sorted):\")\n",
        "print(missing_values_count_sorted)\n",
        "\n",
        "print(\"\\nPotential Outliers:\")\n",
        "print(outliers)\n"
      ],
      "metadata": {
        "colab": {
          "base_uri": "https://localhost:8080/"
        },
        "id": "7W8C8ciTk767",
        "outputId": "a9777df3-bc66-481e-a717-98f68b024494"
      },
      "execution_count": 29,
      "outputs": [
        {
          "output_type": "stream",
          "name": "stdout",
          "text": [
            "Missing Values Count (Sorted):\n",
            "renta                    88901\n",
            "cod_prov                  7795\n",
            "nomprov                   7795\n",
            "segmento                  5443\n",
            "canal_entrada             5429\n",
            "sexo                      5390\n",
            "indresi                   5389\n",
            "tiprel_1mes               5389\n",
            "indext                    5389\n",
            "ind_empleado              5389\n",
            "pais_residencia           5389\n",
            "indrel                    5389\n",
            "ind_nuevo                 5389\n",
            "fecha_alta                5389\n",
            "indrel_1mes               5389\n",
            "indfall                   5389\n",
            "tipodom                   5389\n",
            "ind_actividad_cliente     5389\n",
            "ind_nom_pens_ult1         2266\n",
            "ind_nomina_ult1           2266\n",
            "ncodpers                     0\n",
            "age                          0\n",
            "antiguedad                   0\n",
            "fecha_dato                   0\n",
            "ind_ahor_fin_ult1            0\n",
            "ind_aval_fin_ult1            0\n",
            "ind_cno_fin_ult1             0\n",
            "ind_ctju_fin_ult1            0\n",
            "ind_cco_fin_ult1             0\n",
            "ind_cder_fin_ult1            0\n",
            "ind_ctop_fin_ult1            0\n",
            "ind_ctma_fin_ult1            0\n",
            "ind_ctpp_fin_ult1            0\n",
            "ind_deco_fin_ult1            0\n",
            "ind_ecue_fin_ult1            0\n",
            "ind_fond_fin_ult1            0\n",
            "ind_deme_fin_ult1            0\n",
            "ind_dela_fin_ult1            0\n",
            "ind_plan_fin_ult1            0\n",
            "ind_hip_fin_ult1             0\n",
            "ind_pres_fin_ult1            0\n",
            "ind_reca_fin_ult1            0\n",
            "ind_valo_fin_ult1            0\n",
            "ind_tjcr_fin_ult1            0\n",
            "ind_viv_fin_ult1             0\n",
            "ind_recibo_ult1              0\n",
            "dtype: int64\n",
            "\n",
            "Potential Outliers:\n",
            "                          count           mean            std       min  \\\n",
            "ncodpers               500000.0  817130.441362  438161.585141  15889.00   \n",
            "ind_nuevo              494611.0       0.000303       0.017412      0.00   \n",
            "antiguedad             500000.0      76.784242      70.310297      0.00   \n",
            "indrel                 494611.0       1.130769       3.577475      1.00   \n",
            "indrel_1mes            494611.0       1.000091       0.013414      1.00   \n",
            "tipodom                494611.0       1.000000       0.000000      1.00   \n",
            "cod_prov               492205.0      26.395049      12.844092      1.00   \n",
            "ind_actividad_cliente  494611.0       0.519503       0.499620      0.00   \n",
            "renta                  411099.0  131860.000213  229384.013208   1202.73   \n",
            "ind_ahor_fin_ult1      500000.0       0.000128       0.011313      0.00   \n",
            "ind_aval_fin_ult1      500000.0       0.000030       0.005477      0.00   \n",
            "ind_cco_fin_ult1       500000.0       0.804220       0.396800      0.00   \n",
            "ind_cder_fin_ult1      500000.0       0.000376       0.019387      0.00   \n",
            "ind_cno_fin_ult1       500000.0       0.090818       0.287350      0.00   \n",
            "ind_ctju_fin_ult1      500000.0       0.008912       0.093982      0.00   \n",
            "ind_ctma_fin_ult1      500000.0       0.015252       0.122554      0.00   \n",
            "ind_ctop_fin_ult1      500000.0       0.151438       0.358476      0.00   \n",
            "ind_ctpp_fin_ult1      500000.0       0.035440       0.184889      0.00   \n",
            "ind_deco_fin_ult1      500000.0       0.002578       0.050709      0.00   \n",
            "ind_deme_fin_ult1      500000.0       0.002046       0.045186      0.00   \n",
            "ind_dela_fin_ult1      500000.0       0.050704       0.219393      0.00   \n",
            "ind_ecue_fin_ult1      500000.0       0.093046       0.290497      0.00   \n",
            "ind_fond_fin_ult1      500000.0       0.021606       0.145393      0.00   \n",
            "ind_hip_fin_ult1       500000.0       0.007312       0.085197      0.00   \n",
            "ind_plan_fin_ult1      500000.0       0.012268       0.110080      0.00   \n",
            "ind_pres_fin_ult1      500000.0       0.002858       0.053384      0.00   \n",
            "ind_reca_fin_ult1      500000.0       0.054782       0.227554      0.00   \n",
            "ind_tjcr_fin_ult1      500000.0       0.052790       0.223614      0.00   \n",
            "ind_valo_fin_ult1      500000.0       0.031266       0.174036      0.00   \n",
            "ind_viv_fin_ult1       500000.0       0.004590       0.067594      0.00   \n",
            "ind_nomina_ult1        497734.0       0.060213       0.237881      0.00   \n",
            "ind_nom_pens_ult1      497734.0       0.067215       0.250394      0.00   \n",
            "ind_recibo_ult1        500000.0       0.148174       0.355273      0.00   \n",
            "\n",
            "                              25%        50%         75%          max  \n",
            "ncodpers               336261.750  985658.50  1177883.25   1379131.00  \n",
            "ind_nuevo                   0.000       0.00        0.00         1.00  \n",
            "antiguedad                 21.000      43.00      156.00       246.00  \n",
            "indrel                      1.000       1.00        1.00        99.00  \n",
            "indrel_1mes                 1.000       1.00        1.00         3.00  \n",
            "tipodom                     1.000       1.00        1.00         1.00  \n",
            "cod_prov                   15.000      28.00       35.00        52.00  \n",
            "ind_actividad_cliente       0.000       1.00        1.00         1.00  \n",
            "renta                   67486.335   99826.23   153158.37  28894395.51  \n",
            "ind_ahor_fin_ult1           0.000       0.00        0.00         1.00  \n",
            "ind_aval_fin_ult1           0.000       0.00        0.00         1.00  \n",
            "ind_cco_fin_ult1            1.000       1.00        1.00         1.00  \n",
            "ind_cder_fin_ult1           0.000       0.00        0.00         1.00  \n",
            "ind_cno_fin_ult1            0.000       0.00        0.00         1.00  \n",
            "ind_ctju_fin_ult1           0.000       0.00        0.00         1.00  \n",
            "ind_ctma_fin_ult1           0.000       0.00        0.00         1.00  \n",
            "ind_ctop_fin_ult1           0.000       0.00        0.00         1.00  \n",
            "ind_ctpp_fin_ult1           0.000       0.00        0.00         1.00  \n",
            "ind_deco_fin_ult1           0.000       0.00        0.00         1.00  \n",
            "ind_deme_fin_ult1           0.000       0.00        0.00         1.00  \n",
            "ind_dela_fin_ult1           0.000       0.00        0.00         1.00  \n",
            "ind_ecue_fin_ult1           0.000       0.00        0.00         1.00  \n",
            "ind_fond_fin_ult1           0.000       0.00        0.00         1.00  \n",
            "ind_hip_fin_ult1            0.000       0.00        0.00         1.00  \n",
            "ind_plan_fin_ult1           0.000       0.00        0.00         1.00  \n",
            "ind_pres_fin_ult1           0.000       0.00        0.00         1.00  \n",
            "ind_reca_fin_ult1           0.000       0.00        0.00         1.00  \n",
            "ind_tjcr_fin_ult1           0.000       0.00        0.00         1.00  \n",
            "ind_valo_fin_ult1           0.000       0.00        0.00         1.00  \n",
            "ind_viv_fin_ult1            0.000       0.00        0.00         1.00  \n",
            "ind_nomina_ult1             0.000       0.00        0.00         1.00  \n",
            "ind_nom_pens_ult1           0.000       0.00        0.00         1.00  \n",
            "ind_recibo_ult1             0.000       0.00        0.00         1.00  \n"
          ]
        }
      ]
    },
    {
      "cell_type": "markdown",
      "source": [
        "Interesting to see how the columns that contain missing values have the same number of missing values..."
      ],
      "metadata": {
        "id": "LErwSElEsdHU"
      }
    },
    {
      "cell_type": "code",
      "source": [
        "from sklearn.preprocessing import LabelEncoder\n",
        "\n",
        "label_encoder = LabelEncoder()\n",
        "\n",
        "# Concatenate the one-hot encoded target columns\n",
        "target_columns = df1.columns[df1.columns.str.startswith('ind_')].tolist()\n",
        "target_df1 = df1[target_columns]\n",
        "\n",
        "# Convert one-hot encoded vectors to label encodings\n",
        "for column in target_df1.columns:\n",
        "    target_df1.loc[:, column] = label_encoder.fit_transform(target_df1[column])\n",
        "\n",
        "# Sum the encoded values across columns to represent the new column\n",
        "target_df1['checked_services'] = target_df1.sum(axis=1)\n",
        "\n",
        "# Create user-item interaction matrix without 'ncodpers' column\n",
        "user_item_matrix = target_df1.copy()\n",
        "\n",
        "# Display the user-item interaction matrix\n",
        "print(\"User-Item Interaction Matrix:\")\n",
        "print(user_item_matrix.head())\n"
      ],
      "metadata": {
        "colab": {
          "base_uri": "https://localhost:8080/"
        },
        "id": "VN0xUz0Ivvo5",
        "outputId": "a690bff2-44a6-41da-8fdf-f0d30d9702d1"
      },
      "execution_count": 30,
      "outputs": [
        {
          "output_type": "stream",
          "name": "stdout",
          "text": [
            "User-Item Interaction Matrix:\n",
            "  ind_empleado  ind_nuevo  ind_actividad_cliente  ind_ahor_fin_ult1  \\\n",
            "0            3        0.0                    1.0                  0   \n",
            "1            3        0.0                    0.0                  0   \n",
            "2            3        0.0                    0.0                  0   \n",
            "3            3        0.0                    0.0                  0   \n",
            "4            3        0.0                    1.0                  0   \n",
            "\n",
            "   ind_aval_fin_ult1  ind_cco_fin_ult1  ind_cder_fin_ult1  ind_cno_fin_ult1  \\\n",
            "0                  0                 1                  0                 0   \n",
            "1                  0                 1                  0                 0   \n",
            "2                  0                 1                  0                 0   \n",
            "3                  0                 0                  0                 0   \n",
            "4                  0                 1                  0                 0   \n",
            "\n",
            "   ind_ctju_fin_ult1  ind_ctma_fin_ult1  ...  ind_plan_fin_ult1  \\\n",
            "0                  0                  0  ...                  0   \n",
            "1                  0                  0  ...                  0   \n",
            "2                  0                  0  ...                  0   \n",
            "3                  0                  0  ...                  0   \n",
            "4                  0                  0  ...                  0   \n",
            "\n",
            "   ind_pres_fin_ult1  ind_reca_fin_ult1  ind_tjcr_fin_ult1  ind_valo_fin_ult1  \\\n",
            "0                  0                  0                  0                  0   \n",
            "1                  0                  0                  0                  0   \n",
            "2                  0                  0                  0                  0   \n",
            "3                  0                  0                  0                  0   \n",
            "4                  0                  0                  0                  0   \n",
            "\n",
            "   ind_viv_fin_ult1  ind_nomina_ult1  ind_nom_pens_ult1  ind_recibo_ult1  \\\n",
            "0                 0              0.0                0.0                0   \n",
            "1                 0              0.0                0.0                0   \n",
            "2                 0              0.0                0.0                0   \n",
            "3                 0              0.0                0.0                0   \n",
            "4                 0              0.0                0.0                0   \n",
            "\n",
            "   checked_services  \n",
            "0               5.0  \n",
            "1               4.0  \n",
            "2               4.0  \n",
            "3               4.0  \n",
            "4               5.0  \n",
            "\n",
            "[5 rows x 28 columns]\n"
          ]
        },
        {
          "output_type": "stream",
          "name": "stderr",
          "text": [
            "<ipython-input-30-4847bf81beed>:14: SettingWithCopyWarning: \n",
            "A value is trying to be set on a copy of a slice from a DataFrame.\n",
            "Try using .loc[row_indexer,col_indexer] = value instead\n",
            "\n",
            "See the caveats in the documentation: https://pandas.pydata.org/pandas-docs/stable/user_guide/indexing.html#returning-a-view-versus-a-copy\n",
            "  target_df1['checked_services'] = target_df1.sum(axis=1)\n"
          ]
        }
      ]
    },
    {
      "cell_type": "code",
      "source": [
        "## visualize it\n",
        "\n",
        "from tabulate import tabulate\n",
        "\n",
        "print(\"User-Item Interaction Matrix:\")\n",
        "print(tabulate(user_item_matrix.head(), headers='keys', tablefmt='pretty'))\n"
      ],
      "metadata": {
        "colab": {
          "base_uri": "https://localhost:8080/"
        },
        "id": "QJ46JU4iwKQN",
        "outputId": "8b85d09b-607f-410e-ce53-1701dba63134"
      },
      "execution_count": 31,
      "outputs": [
        {
          "output_type": "stream",
          "name": "stdout",
          "text": [
            "User-Item Interaction Matrix:\n",
            "+---+--------------+-----------+-----------------------+-------------------+-------------------+------------------+-------------------+------------------+-------------------+-------------------+-------------------+-------------------+-------------------+-------------------+-------------------+-------------------+-------------------+------------------+-------------------+-------------------+-------------------+-------------------+-------------------+------------------+-----------------+-------------------+-----------------+------------------+\n",
            "|   | ind_empleado | ind_nuevo | ind_actividad_cliente | ind_ahor_fin_ult1 | ind_aval_fin_ult1 | ind_cco_fin_ult1 | ind_cder_fin_ult1 | ind_cno_fin_ult1 | ind_ctju_fin_ult1 | ind_ctma_fin_ult1 | ind_ctop_fin_ult1 | ind_ctpp_fin_ult1 | ind_deco_fin_ult1 | ind_deme_fin_ult1 | ind_dela_fin_ult1 | ind_ecue_fin_ult1 | ind_fond_fin_ult1 | ind_hip_fin_ult1 | ind_plan_fin_ult1 | ind_pres_fin_ult1 | ind_reca_fin_ult1 | ind_tjcr_fin_ult1 | ind_valo_fin_ult1 | ind_viv_fin_ult1 | ind_nomina_ult1 | ind_nom_pens_ult1 | ind_recibo_ult1 | checked_services |\n",
            "+---+--------------+-----------+-----------------------+-------------------+-------------------+------------------+-------------------+------------------+-------------------+-------------------+-------------------+-------------------+-------------------+-------------------+-------------------+-------------------+-------------------+------------------+-------------------+-------------------+-------------------+-------------------+-------------------+------------------+-----------------+-------------------+-----------------+------------------+\n",
            "| 0 |      3       |    0.0    |          1.0          |         0         |         0         |        1         |         0         |        0         |         0         |         0         |         0         |         0         |         0         |         0         |         0         |         0         |         0         |        0         |         0         |         0         |         0         |         0         |         0         |        0         |       0.0       |        0.0        |        0        |       5.0        |\n",
            "| 1 |      3       |    0.0    |          0.0          |         0         |         0         |        1         |         0         |        0         |         0         |         0         |         0         |         0         |         0         |         0         |         0         |         0         |         0         |        0         |         0         |         0         |         0         |         0         |         0         |        0         |       0.0       |        0.0        |        0        |       4.0        |\n",
            "| 2 |      3       |    0.0    |          0.0          |         0         |         0         |        1         |         0         |        0         |         0         |         0         |         0         |         0         |         0         |         0         |         0         |         0         |         0         |        0         |         0         |         0         |         0         |         0         |         0         |        0         |       0.0       |        0.0        |        0        |       4.0        |\n",
            "| 3 |      3       |    0.0    |          0.0          |         0         |         0         |        0         |         0         |        0         |         0         |         0         |         0         |         0         |         1         |         0         |         0         |         0         |         0         |        0         |         0         |         0         |         0         |         0         |         0         |        0         |       0.0       |        0.0        |        0        |       4.0        |\n",
            "| 4 |      3       |    0.0    |          1.0          |         0         |         0         |        1         |         0         |        0         |         0         |         0         |         0         |         0         |         0         |         0         |         0         |         0         |         0         |        0         |         0         |         0         |         0         |         0         |         0         |        0         |       0.0       |        0.0        |        0        |       5.0        |\n",
            "+---+--------------+-----------+-----------------------+-------------------+-------------------+------------------+-------------------+------------------+-------------------+-------------------+-------------------+-------------------+-------------------+-------------------+-------------------+-------------------+-------------------+------------------+-------------------+-------------------+-------------------+-------------------+-------------------+------------------+-----------------+-------------------+-----------------+------------------+\n"
          ]
        }
      ]
    },
    {
      "cell_type": "code",
      "source": [
        "df1['checked_services'] = target_df1['checked_services']\n",
        "\n",
        "print(df1.head())\n",
        "print(df1.columns)"
      ],
      "metadata": {
        "colab": {
          "base_uri": "https://localhost:8080/"
        },
        "id": "AikAUAF6YHrq",
        "outputId": "f3f9cb30-6d70-4a73-adb0-6a4641b12f57"
      },
      "execution_count": 32,
      "outputs": [
        {
          "output_type": "stream",
          "name": "stdout",
          "text": [
            "   fecha_dato  ncodpers ind_empleado pais_residencia sexo  age  fecha_alta  \\\n",
            "0  2015-01-28   1375586            N              ES    H   35  2015-01-12   \n",
            "1  2015-01-28   1050611            N              ES    V   23  2012-08-10   \n",
            "2  2015-01-28   1050612            N              ES    V   23  2012-08-10   \n",
            "3  2015-01-28   1050613            N              ES    H   22  2012-08-10   \n",
            "4  2015-01-28   1050614            N              ES    V   23  2012-08-10   \n",
            "\n",
            "   ind_nuevo  antiguedad  indrel  ...  ind_plan_fin_ult1 ind_pres_fin_ult1  \\\n",
            "0        0.0         6.0     1.0  ...                  0                 0   \n",
            "1        0.0        35.0     1.0  ...                  0                 0   \n",
            "2        0.0        35.0     1.0  ...                  0                 0   \n",
            "3        0.0        35.0     1.0  ...                  0                 0   \n",
            "4        0.0        35.0     1.0  ...                  0                 0   \n",
            "\n",
            "  ind_reca_fin_ult1 ind_tjcr_fin_ult1 ind_valo_fin_ult1 ind_viv_fin_ult1  \\\n",
            "0                 0                 0                 0                0   \n",
            "1                 0                 0                 0                0   \n",
            "2                 0                 0                 0                0   \n",
            "3                 0                 0                 0                0   \n",
            "4                 0                 0                 0                0   \n",
            "\n",
            "   ind_nomina_ult1  ind_nom_pens_ult1 ind_recibo_ult1  checked_services  \n",
            "0              0.0                0.0               0               5.0  \n",
            "1              0.0                0.0               0               4.0  \n",
            "2              0.0                0.0               0               4.0  \n",
            "3              0.0                0.0               0               4.0  \n",
            "4              0.0                0.0               0               5.0  \n",
            "\n",
            "[5 rows x 47 columns]\n",
            "Index(['fecha_dato', 'ncodpers', 'ind_empleado', 'pais_residencia', 'sexo',\n",
            "       'age', 'fecha_alta', 'ind_nuevo', 'antiguedad', 'indrel', 'indrel_1mes',\n",
            "       'tiprel_1mes', 'indresi', 'indext', 'canal_entrada', 'indfall',\n",
            "       'tipodom', 'cod_prov', 'nomprov', 'ind_actividad_cliente', 'renta',\n",
            "       'segmento', 'ind_ahor_fin_ult1', 'ind_aval_fin_ult1',\n",
            "       'ind_cco_fin_ult1', 'ind_cder_fin_ult1', 'ind_cno_fin_ult1',\n",
            "       'ind_ctju_fin_ult1', 'ind_ctma_fin_ult1', 'ind_ctop_fin_ult1',\n",
            "       'ind_ctpp_fin_ult1', 'ind_deco_fin_ult1', 'ind_deme_fin_ult1',\n",
            "       'ind_dela_fin_ult1', 'ind_ecue_fin_ult1', 'ind_fond_fin_ult1',\n",
            "       'ind_hip_fin_ult1', 'ind_plan_fin_ult1', 'ind_pres_fin_ult1',\n",
            "       'ind_reca_fin_ult1', 'ind_tjcr_fin_ult1', 'ind_valo_fin_ult1',\n",
            "       'ind_viv_fin_ult1', 'ind_nomina_ult1', 'ind_nom_pens_ult1',\n",
            "       'ind_recibo_ult1', 'checked_services'],\n",
            "      dtype='object')\n"
          ]
        }
      ]
    },
    {
      "cell_type": "markdown",
      "source": [
        "I want to remove the consumers who were below the mean of buying products, but I will do those with 4 just to consider those who bought less..."
      ],
      "metadata": {
        "id": "Uw_XONgbN3EC"
      }
    },
    {
      "cell_type": "code",
      "source": [
        "threshold = 4\n",
        "\n",
        "new_df = df1[df1['checked_services'] > threshold]\n",
        "\n",
        "print(\"Shape of filtered DataFrame:\\n\", new_df.shape)\n",
        "\n",
        "print(\"\\nNew Dataset:\")\n",
        "print(new_df.head())\n"
      ],
      "metadata": {
        "colab": {
          "base_uri": "https://localhost:8080/"
        },
        "id": "a2dOy6hJN2wY",
        "outputId": "8d7855af-c2d7-41ba-e440-a6bfded9ed71"
      },
      "execution_count": 33,
      "outputs": [
        {
          "output_type": "stream",
          "name": "stdout",
          "text": [
            "Shape of filtered DataFrame:\n",
            " (276832, 47)\n",
            "\n",
            "New Dataset:\n",
            "    fecha_dato  ncodpers ind_empleado pais_residencia sexo  age  fecha_alta  \\\n",
            "0   2015-01-28   1375586            N              ES    H   35  2015-01-12   \n",
            "4   2015-01-28   1050614            N              ES    V   23  2012-08-10   \n",
            "7   2015-01-28   1050617            N              ES    H   23  2012-08-10   \n",
            "12  2015-01-28   1050623            N              ES    H   23  2012-08-10   \n",
            "13  2015-01-28   1050624            N              ES    H   65  2012-08-10   \n",
            "\n",
            "    ind_nuevo  antiguedad  indrel  ...  ind_plan_fin_ult1 ind_pres_fin_ult1  \\\n",
            "0         0.0         6.0     1.0  ...                  0                 0   \n",
            "4         0.0        35.0     1.0  ...                  0                 0   \n",
            "7         0.0        35.0     1.0  ...                  0                 0   \n",
            "12        0.0        35.0     1.0  ...                  0                 0   \n",
            "13        0.0        35.0     1.0  ...                  0                 0   \n",
            "\n",
            "   ind_reca_fin_ult1 ind_tjcr_fin_ult1 ind_valo_fin_ult1 ind_viv_fin_ult1  \\\n",
            "0                  0                 0                 0                0   \n",
            "4                  0                 0                 0                0   \n",
            "7                  0                 0                 0                0   \n",
            "12                 0                 0                 0                0   \n",
            "13                 0                 0                 0                0   \n",
            "\n",
            "    ind_nomina_ult1  ind_nom_pens_ult1 ind_recibo_ult1  checked_services  \n",
            "0               0.0                0.0               0               5.0  \n",
            "4               0.0                0.0               0               5.0  \n",
            "7               0.0                0.0               0               5.0  \n",
            "12              0.0                0.0               0               5.0  \n",
            "13              0.0                0.0               0               5.0  \n",
            "\n",
            "[5 rows x 47 columns]\n"
          ]
        }
      ]
    },
    {
      "cell_type": "code",
      "source": [
        "new_df = new_df.copy()\n",
        "new_df['checked_services'] = pd.to_numeric(new_df['checked_services'], errors='coerce')\n",
        "\n",
        "# Convert 'age' column to numerical\n",
        "new_df['age'] = pd.to_numeric(new_df['age'], errors='coerce')\n",
        "\n",
        "new_num_feat = new_df.select_dtypes(include=['int64', 'float64']).columns.tolist()\n",
        "new_cat_feat = new_df.select_dtypes(include=['object']).columns.tolist()\n",
        "\n",
        "new_numerical_features = len(new_num_feat)\n",
        "new_categorical_features = len(new_cat_feat)\n",
        "\n",
        "print(\"Numerical Features ({}):\".format(new_numerical_features))\n",
        "print(new_num_feat)\n",
        "print(\"\\nCategorical Features ({}):\".format(new_categorical_features))\n",
        "print(new_cat_feat)\n"
      ],
      "metadata": {
        "colab": {
          "base_uri": "https://localhost:8080/"
        },
        "id": "lGlobcmVjWBY",
        "outputId": "9093758d-8b85-4dee-b2e4-df516654d744"
      },
      "execution_count": 34,
      "outputs": [
        {
          "output_type": "stream",
          "name": "stdout",
          "text": [
            "Numerical Features (35):\n",
            "['ncodpers', 'age', 'ind_nuevo', 'antiguedad', 'indrel', 'indrel_1mes', 'tipodom', 'cod_prov', 'ind_actividad_cliente', 'renta', 'ind_ahor_fin_ult1', 'ind_aval_fin_ult1', 'ind_cco_fin_ult1', 'ind_cder_fin_ult1', 'ind_cno_fin_ult1', 'ind_ctju_fin_ult1', 'ind_ctma_fin_ult1', 'ind_ctop_fin_ult1', 'ind_ctpp_fin_ult1', 'ind_deco_fin_ult1', 'ind_deme_fin_ult1', 'ind_dela_fin_ult1', 'ind_ecue_fin_ult1', 'ind_fond_fin_ult1', 'ind_hip_fin_ult1', 'ind_plan_fin_ult1', 'ind_pres_fin_ult1', 'ind_reca_fin_ult1', 'ind_tjcr_fin_ult1', 'ind_valo_fin_ult1', 'ind_viv_fin_ult1', 'ind_nomina_ult1', 'ind_nom_pens_ult1', 'ind_recibo_ult1', 'checked_services']\n",
            "\n",
            "Categorical Features (12):\n",
            "['fecha_dato', 'ind_empleado', 'pais_residencia', 'sexo', 'fecha_alta', 'tiprel_1mes', 'indresi', 'indext', 'canal_entrada', 'indfall', 'nomprov', 'segmento']\n"
          ]
        }
      ]
    },
    {
      "cell_type": "code",
      "source": [
        "### Feature Engineering cont..."
      ],
      "metadata": {
        "id": "UvKlrkAUFGLI"
      },
      "execution_count": 35,
      "outputs": []
    },
    {
      "cell_type": "code",
      "source": [
        "import xgboost as xgb\n",
        "\n",
        "# Assuming new_df is your DataFrame with missing values\n",
        "# Check for missing values before imputation\n",
        "print(\"Number of missing values before imputation:\")\n",
        "print(new_df.isnull().sum())\n",
        "\n",
        "# Define XGBoost model\n",
        "xgb_model = xgb.XGBRegressor()\n",
        "\n",
        "# Define features and target variable\n",
        "X = new_df[new_num_feat].values  # Convert to numpy array\n",
        "y = new_df['checked_services'].values  # Replace 'checked_services' with your target variable\n",
        "\n",
        "# Train the model\n",
        "xgb_model.fit(X, y)  # Make sure to include the target variable\n",
        "\n",
        "# Use the trained model to predict missing values\n",
        "imputed_values = xgb_model.predict(X)\n",
        "\n",
        "# Replace missing values in your dataframe\n",
        "new_df[new_num_feat] = np.where(new_df[new_num_feat].isnull(), imputed_values.reshape(-1, 1), new_df[new_num_feat])\n",
        "\n",
        "# Check for missing values after imputation\n",
        "print(\"\\nNumber of missing values after imputation:\")\n",
        "print(new_df.isnull().sum())\n"
      ],
      "metadata": {
        "colab": {
          "base_uri": "https://localhost:8080/"
        },
        "id": "5d0Nc2pVbp6X",
        "outputId": "0481f24a-dfb1-4379-ff7e-aa4a030fe128"
      },
      "execution_count": 36,
      "outputs": [
        {
          "output_type": "stream",
          "name": "stdout",
          "text": [
            "Number of missing values before imputation:\n",
            "fecha_dato                   0\n",
            "ncodpers                     0\n",
            "ind_empleado              5389\n",
            "pais_residencia           5389\n",
            "sexo                      5390\n",
            "age                       5389\n",
            "fecha_alta                5389\n",
            "ind_nuevo                 5389\n",
            "antiguedad                   0\n",
            "indrel                    5389\n",
            "indrel_1mes               5389\n",
            "tiprel_1mes               5389\n",
            "indresi                   5389\n",
            "indext                    5389\n",
            "canal_entrada             5422\n",
            "indfall                   5389\n",
            "tipodom                   5389\n",
            "cod_prov                  6912\n",
            "nomprov                   6912\n",
            "ind_actividad_cliente     5389\n",
            "renta                    48020\n",
            "segmento                  5430\n",
            "ind_ahor_fin_ult1            0\n",
            "ind_aval_fin_ult1            0\n",
            "ind_cco_fin_ult1             0\n",
            "ind_cder_fin_ult1            0\n",
            "ind_cno_fin_ult1             0\n",
            "ind_ctju_fin_ult1            0\n",
            "ind_ctma_fin_ult1            0\n",
            "ind_ctop_fin_ult1            0\n",
            "ind_ctpp_fin_ult1            0\n",
            "ind_deco_fin_ult1            0\n",
            "ind_deme_fin_ult1            0\n",
            "ind_dela_fin_ult1            0\n",
            "ind_ecue_fin_ult1            0\n",
            "ind_fond_fin_ult1            0\n",
            "ind_hip_fin_ult1             0\n",
            "ind_plan_fin_ult1            0\n",
            "ind_pres_fin_ult1            0\n",
            "ind_reca_fin_ult1            0\n",
            "ind_tjcr_fin_ult1            0\n",
            "ind_valo_fin_ult1            0\n",
            "ind_viv_fin_ult1             0\n",
            "ind_nomina_ult1           2266\n",
            "ind_nom_pens_ult1         2266\n",
            "ind_recibo_ult1              0\n",
            "checked_services             0\n",
            "dtype: int64\n",
            "\n",
            "Number of missing values after imputation:\n",
            "fecha_dato                  0\n",
            "ncodpers                    0\n",
            "ind_empleado             5389\n",
            "pais_residencia          5389\n",
            "sexo                     5390\n",
            "age                         0\n",
            "fecha_alta               5389\n",
            "ind_nuevo                   0\n",
            "antiguedad                  0\n",
            "indrel                      0\n",
            "indrel_1mes                 0\n",
            "tiprel_1mes              5389\n",
            "indresi                  5389\n",
            "indext                   5389\n",
            "canal_entrada            5422\n",
            "indfall                  5389\n",
            "tipodom                     0\n",
            "cod_prov                    0\n",
            "nomprov                  6912\n",
            "ind_actividad_cliente       0\n",
            "renta                       0\n",
            "segmento                 5430\n",
            "ind_ahor_fin_ult1           0\n",
            "ind_aval_fin_ult1           0\n",
            "ind_cco_fin_ult1            0\n",
            "ind_cder_fin_ult1           0\n",
            "ind_cno_fin_ult1            0\n",
            "ind_ctju_fin_ult1           0\n",
            "ind_ctma_fin_ult1           0\n",
            "ind_ctop_fin_ult1           0\n",
            "ind_ctpp_fin_ult1           0\n",
            "ind_deco_fin_ult1           0\n",
            "ind_deme_fin_ult1           0\n",
            "ind_dela_fin_ult1           0\n",
            "ind_ecue_fin_ult1           0\n",
            "ind_fond_fin_ult1           0\n",
            "ind_hip_fin_ult1            0\n",
            "ind_plan_fin_ult1           0\n",
            "ind_pres_fin_ult1           0\n",
            "ind_reca_fin_ult1           0\n",
            "ind_tjcr_fin_ult1           0\n",
            "ind_valo_fin_ult1           0\n",
            "ind_viv_fin_ult1            0\n",
            "ind_nomina_ult1             0\n",
            "ind_nom_pens_ult1           0\n",
            "ind_recibo_ult1             0\n",
            "checked_services            0\n",
            "dtype: int64\n"
          ]
        }
      ]
    },
    {
      "cell_type": "markdown",
      "source": [
        "XBG fixed some of the missing values, the columns that did not is okay because they are categorical. And not as important aka the (pais_residencia = Customer's Country residence). I will prioritize the important columns that have zero nan like the rent, age, etc"
      ],
      "metadata": {
        "id": "bsm-RYmXcVeG"
      }
    },
    {
      "cell_type": "markdown",
      "source": [
        "To fill the missing values in age because I feel like this is good info for the objective, using the Customer seniority (antiguedad). Older customers can have higher seniority..."
      ],
      "metadata": {
        "id": "SWx3CoB9Tvw5"
      }
    },
    {
      "cell_type": "code",
      "source": [
        "# Fill missing age values using customer seniority (antiguedad)\n",
        "# Calculate the mean age for each unique value of customer seniority\n",
        "age_mean_by_seniority = new_df.groupby('antiguedad')['age'].mean()\n",
        "\n",
        "# Check if there are any missing values in the age column\n",
        "if new_df['age'].isnull().sum() == 0:\n",
        "    print(\"No missing values in the 'age' column.\")\n",
        "else:\n",
        "    # Fill missing age values with the mean age corresponding to the customer's seniority\n",
        "    new_df['age'] = new_df.apply(lambda row: age_mean_by_seniority[row['antiguedad']] if np.isnan(row['age']) else row['age'], axis=1)\n"
      ],
      "metadata": {
        "colab": {
          "base_uri": "https://localhost:8080/"
        },
        "id": "SrFkWbE4hzRf",
        "outputId": "72753cf6-683c-4f64-a97c-951a0c53c075"
      },
      "execution_count": 37,
      "outputs": [
        {
          "output_type": "stream",
          "name": "stdout",
          "text": [
            "No missing values in the 'age' column.\n"
          ]
        }
      ]
    },
    {
      "cell_type": "markdown",
      "source": [
        "##**Test Set Preprocessing**"
      ],
      "metadata": {
        "id": "yyPFLTOviR4h"
      }
    },
    {
      "cell_type": "code",
      "source": [
        "df_test = pd.read_csv('/content/train/test_ver2.csv', nrows=950000)\n",
        "print(df_test.head())"
      ],
      "metadata": {
        "colab": {
          "base_uri": "https://localhost:8080/"
        },
        "id": "A1mAz7FViYTe",
        "outputId": "a5358084-85a2-48ef-925d-265bc95c7f96"
      },
      "execution_count": 38,
      "outputs": [
        {
          "output_type": "stream",
          "name": "stderr",
          "text": [
            "<ipython-input-38-ae5808d1389e>:1: DtypeWarning: Columns (15) have mixed types. Specify dtype option on import or set low_memory=False.\n",
            "  df_test = pd.read_csv('/content/train/test_ver2.csv', nrows=950000)\n"
          ]
        },
        {
          "output_type": "stream",
          "name": "stdout",
          "text": [
            "   fecha_dato  ncodpers ind_empleado pais_residencia sexo  age  fecha_alta  \\\n",
            "0  2016-06-28     15889            F              ES    V   56  1995-01-16   \n",
            "1  2016-06-28   1170544            N              ES    H   36  2013-08-28   \n",
            "2  2016-06-28   1170545            N              ES    V   22  2013-08-28   \n",
            "3  2016-06-28   1170547            N              ES    H   22  2013-08-28   \n",
            "4  2016-06-28   1170548            N              ES    H   22  2013-08-28   \n",
            "\n",
            "   ind_nuevo  antiguedad  indrel  ... indext  conyuemp canal_entrada indfall  \\\n",
            "0          0         256       1  ...      N         N           KAT       N   \n",
            "1          0          34       1  ...      N       NaN           KAT       N   \n",
            "2          0          34       1  ...      N       NaN           KHE       N   \n",
            "3          0          34       1  ...      N       NaN           KHE       N   \n",
            "4          0          34       1  ...      N       NaN           KHE       N   \n",
            "\n",
            "  tipodom cod_prov         nomprov ind_actividad_cliente        renta  \\\n",
            "0       1     28.0          MADRID                     1    326124.90   \n",
            "1       1      3.0        ALICANTE                     0           NA   \n",
            "2       1     15.0       CORUÑA, A                     1           NA   \n",
            "3       1      8.0       BARCELONA                     0    148402.98   \n",
            "4       1      7.0  BALEARS, ILLES                     0    106885.80   \n",
            "\n",
            "             segmento  \n",
            "0            01 - TOP  \n",
            "1   02 - PARTICULARES  \n",
            "2  03 - UNIVERSITARIO  \n",
            "3  03 - UNIVERSITARIO  \n",
            "4  03 - UNIVERSITARIO  \n",
            "\n",
            "[5 rows x 24 columns]\n"
          ]
        }
      ]
    },
    {
      "cell_type": "code",
      "source": [
        "missing_p = (df_test.isnull().sum() / len(df_test)) * 100\n",
        "\n",
        "missing_dft = pd.DataFrame({'Column': missing_p.index, 'Missing Percentage': missing_p.values})\n",
        "\n",
        "missing_dft = missing_df.sort_values(by='Missing Percentage', ascending=False)\n",
        "\n",
        "print(missing_dft)"
      ],
      "metadata": {
        "colab": {
          "base_uri": "https://localhost:8080/"
        },
        "id": "rPbvkqNxkAis",
        "outputId": "5e16f7cf-b746-4c54-b300-fd1babffa52a"
      },
      "execution_count": 39,
      "outputs": [
        {
          "output_type": "stream",
          "name": "stdout",
          "text": [
            "                   Column  Missing Percentage\n",
            "15               conyuemp             99.9822\n",
            "10         ult_fec_cli_1t             99.8680\n",
            "22                  renta             17.7802\n",
            "19               cod_prov              1.5590\n",
            "20                nomprov              1.5590\n",
            "23               segmento              1.0886\n",
            "16          canal_entrada              1.0858\n",
            "4                    sexo              1.0780\n",
            "13                indresi              1.0778\n",
            "12            tiprel_1mes              1.0778\n",
            "14                 indext              1.0778\n",
            "3         pais_residencia              1.0778\n",
            "7               ind_nuevo              1.0778\n",
            "11            indrel_1mes              1.0778\n",
            "6              fecha_alta              1.0778\n",
            "2            ind_empleado              1.0778\n",
            "9                  indrel              1.0778\n",
            "17                indfall              1.0778\n",
            "18                tipodom              1.0778\n",
            "21  ind_actividad_cliente              1.0778\n",
            "46      ind_nom_pens_ult1              0.4532\n",
            "45        ind_nomina_ult1              0.4532\n",
            "0              fecha_dato              0.0000\n",
            "5                     age              0.0000\n",
            "8              antiguedad              0.0000\n",
            "1                ncodpers              0.0000\n",
            "24      ind_ahor_fin_ult1              0.0000\n",
            "25      ind_aval_fin_ult1              0.0000\n",
            "28       ind_cno_fin_ult1              0.0000\n",
            "29      ind_ctju_fin_ult1              0.0000\n",
            "26       ind_cco_fin_ult1              0.0000\n",
            "27      ind_cder_fin_ult1              0.0000\n",
            "31      ind_ctop_fin_ult1              0.0000\n",
            "30      ind_ctma_fin_ult1              0.0000\n",
            "32      ind_ctpp_fin_ult1              0.0000\n",
            "33      ind_deco_fin_ult1              0.0000\n",
            "36      ind_ecue_fin_ult1              0.0000\n",
            "37      ind_fond_fin_ult1              0.0000\n",
            "34      ind_deme_fin_ult1              0.0000\n",
            "35      ind_dela_fin_ult1              0.0000\n",
            "39      ind_plan_fin_ult1              0.0000\n",
            "38       ind_hip_fin_ult1              0.0000\n",
            "40      ind_pres_fin_ult1              0.0000\n",
            "41      ind_reca_fin_ult1              0.0000\n",
            "43      ind_valo_fin_ult1              0.0000\n",
            "42      ind_tjcr_fin_ult1              0.0000\n",
            "44       ind_viv_fin_ult1              0.0000\n",
            "47        ind_recibo_ult1              0.0000\n"
          ]
        }
      ]
    },
    {
      "cell_type": "code",
      "source": [
        "columns_to_drop = ['conyuemp', 'ult_fec_cli_1t']\n",
        "df_test1 = df_test.drop(columns=columns_to_drop)\n",
        "\n",
        "print(df_test1.head())"
      ],
      "metadata": {
        "colab": {
          "base_uri": "https://localhost:8080/"
        },
        "id": "s2fW_Uo-kOvR",
        "outputId": "24b66d26-7387-4934-b65a-742222e3b7cd"
      },
      "execution_count": 40,
      "outputs": [
        {
          "output_type": "stream",
          "name": "stdout",
          "text": [
            "   fecha_dato  ncodpers ind_empleado pais_residencia sexo  age  fecha_alta  \\\n",
            "0  2016-06-28     15889            F              ES    V   56  1995-01-16   \n",
            "1  2016-06-28   1170544            N              ES    H   36  2013-08-28   \n",
            "2  2016-06-28   1170545            N              ES    V   22  2013-08-28   \n",
            "3  2016-06-28   1170547            N              ES    H   22  2013-08-28   \n",
            "4  2016-06-28   1170548            N              ES    H   22  2013-08-28   \n",
            "\n",
            "   ind_nuevo  antiguedad  indrel  ...  indresi indext canal_entrada indfall  \\\n",
            "0          0         256       1  ...        S      N           KAT       N   \n",
            "1          0          34       1  ...        S      N           KAT       N   \n",
            "2          0          34       1  ...        S      N           KHE       N   \n",
            "3          0          34       1  ...        S      N           KHE       N   \n",
            "4          0          34       1  ...        S      N           KHE       N   \n",
            "\n",
            "  tipodom cod_prov         nomprov  ind_actividad_cliente        renta  \\\n",
            "0       1     28.0          MADRID                      1    326124.90   \n",
            "1       1      3.0        ALICANTE                      0           NA   \n",
            "2       1     15.0       CORUÑA, A                      1           NA   \n",
            "3       1      8.0       BARCELONA                      0    148402.98   \n",
            "4       1      7.0  BALEARS, ILLES                      0    106885.80   \n",
            "\n",
            "             segmento  \n",
            "0            01 - TOP  \n",
            "1   02 - PARTICULARES  \n",
            "2  03 - UNIVERSITARIO  \n",
            "3  03 - UNIVERSITARIO  \n",
            "4  03 - UNIVERSITARIO  \n",
            "\n",
            "[5 rows x 22 columns]\n"
          ]
        }
      ]
    },
    {
      "cell_type": "code",
      "source": [
        "nf = len(df_test1.columns)\n",
        "\n",
        "n_features = []\n",
        "c_features = []\n",
        "\n",
        "for column in df_test1.columns:\n",
        "    if df_test1[column].dtype == 'object':\n",
        "        c_features.append(column)\n",
        "    else:\n",
        "        n_features.append(column)\n",
        "\n",
        "print(f\"Number of features: {nf}\")\n",
        "print(\"\\nNumerical Features:\")\n",
        "print(n_features)\n",
        "print(\"\\nCategorical Features:\")\n",
        "print(c_features)\n"
      ],
      "metadata": {
        "colab": {
          "base_uri": "https://localhost:8080/"
        },
        "id": "AL7V_vXOkiHn",
        "outputId": "00cc6e70-e4b4-47b2-af2d-c060356a0afd"
      },
      "execution_count": 41,
      "outputs": [
        {
          "output_type": "stream",
          "name": "stdout",
          "text": [
            "Number of features: 22\n",
            "\n",
            "Numerical Features:\n",
            "['ncodpers', 'age', 'ind_nuevo', 'antiguedad', 'indrel', 'indrel_1mes', 'tipodom', 'cod_prov', 'ind_actividad_cliente']\n",
            "\n",
            "Categorical Features:\n",
            "['fecha_dato', 'ind_empleado', 'pais_residencia', 'sexo', 'fecha_alta', 'tiprel_1mes', 'indresi', 'indext', 'canal_entrada', 'indfall', 'nomprov', 'renta', 'segmento']\n"
          ]
        }
      ]
    },
    {
      "cell_type": "markdown",
      "source": [
        "Rent has numbers and should be numerical then."
      ],
      "metadata": {
        "id": "1YfVyC3Nsn-h"
      }
    },
    {
      "cell_type": "code",
      "source": [
        "if 'renta' in c_features:\n",
        "    c_features.remove('renta')\n",
        "    n_features.append('renta')\n",
        "\n",
        "print(f\"Number of features: {nf}\")\n",
        "print(\"\\nNumerical Features:\")\n",
        "print(n_features)\n",
        "print(\"\\nCategorical Features:\")\n",
        "print(c_features)"
      ],
      "metadata": {
        "colab": {
          "base_uri": "https://localhost:8080/"
        },
        "id": "w8YU-JDMk986",
        "outputId": "bbec14fb-6a88-4fdb-8294-467d0d52da1e"
      },
      "execution_count": 42,
      "outputs": [
        {
          "output_type": "stream",
          "name": "stdout",
          "text": [
            "Number of features: 22\n",
            "\n",
            "Numerical Features:\n",
            "['ncodpers', 'age', 'ind_nuevo', 'antiguedad', 'indrel', 'indrel_1mes', 'tipodom', 'cod_prov', 'ind_actividad_cliente', 'renta']\n",
            "\n",
            "Categorical Features:\n",
            "['fecha_dato', 'ind_empleado', 'pais_residencia', 'sexo', 'fecha_alta', 'tiprel_1mes', 'indresi', 'indext', 'canal_entrada', 'indfall', 'nomprov', 'segmento']\n"
          ]
        }
      ]
    },
    {
      "cell_type": "code",
      "source": [
        "numerical_df_test1 = df_test1[n_features]\n",
        "print(numerical_df_test1.head())"
      ],
      "metadata": {
        "colab": {
          "base_uri": "https://localhost:8080/"
        },
        "id": "32XG8_LNlnzJ",
        "outputId": "608ebbf2-ec48-421a-dfce-06f57b2824bb"
      },
      "execution_count": 43,
      "outputs": [
        {
          "output_type": "stream",
          "name": "stdout",
          "text": [
            "   ncodpers  age  ind_nuevo  antiguedad  indrel  indrel_1mes  tipodom  \\\n",
            "0     15889   56          0         256       1          1.0        1   \n",
            "1   1170544   36          0          34       1          1.0        1   \n",
            "2   1170545   22          0          34       1          1.0        1   \n",
            "3   1170547   22          0          34       1          1.0        1   \n",
            "4   1170548   22          0          34       1          1.0        1   \n",
            "\n",
            "   cod_prov  ind_actividad_cliente        renta  \n",
            "0      28.0                      1    326124.90  \n",
            "1       3.0                      0           NA  \n",
            "2      15.0                      1           NA  \n",
            "3       8.0                      0    148402.98  \n",
            "4       7.0                      0    106885.80  \n"
          ]
        }
      ]
    },
    {
      "cell_type": "code",
      "source": [
        "df_test1['antiguedad'] = pd.to_numeric(df_test1['antiguedad'], errors='coerce')\n",
        "\n",
        "df_test1['antiguedad'] = df_test1['antiguedad'].apply(lambda x: max(0, x))\n",
        "\n",
        "print(df_test1['antiguedad'])"
      ],
      "metadata": {
        "colab": {
          "base_uri": "https://localhost:8080/"
        },
        "id": "7vdSOi-Sl8kz",
        "outputId": "7990a8d2-d5ff-47e8-abf5-3a1466ac61da"
      },
      "execution_count": 44,
      "outputs": [
        {
          "output_type": "stream",
          "name": "stdout",
          "text": [
            "0         256\n",
            "1          34\n",
            "2          34\n",
            "3          34\n",
            "4          34\n",
            "         ... \n",
            "929610    206\n",
            "929611    115\n",
            "929612    115\n",
            "929613    115\n",
            "929614    115\n",
            "Name: antiguedad, Length: 929615, dtype: int64\n"
          ]
        }
      ]
    },
    {
      "cell_type": "code",
      "source": [
        "print(\"Minimum value of 'antiguedad':\", df_test1['antiguedad'].min())\n",
        "print(\"Maximum value of 'antiguedad':\", df_test1['antiguedad'].max())"
      ],
      "metadata": {
        "colab": {
          "base_uri": "https://localhost:8080/"
        },
        "id": "v_myk_GFmGF2",
        "outputId": "81dc4b12-cfdc-4b64-dffe-e0e6819d172f"
      },
      "execution_count": 45,
      "outputs": [
        {
          "output_type": "stream",
          "name": "stdout",
          "text": [
            "Minimum value of 'antiguedad': 0\n",
            "Maximum value of 'antiguedad': 257\n"
          ]
        }
      ]
    },
    {
      "cell_type": "code",
      "source": [
        "categorical_df_test1= df_test1[c_features]\n",
        "print(categorical_df_test1.head())"
      ],
      "metadata": {
        "colab": {
          "base_uri": "https://localhost:8080/"
        },
        "id": "WmQuEBUomPy5",
        "outputId": "7b1af521-ab24-45d6-fdf3-9c725b4d36b5"
      },
      "execution_count": 46,
      "outputs": [
        {
          "output_type": "stream",
          "name": "stdout",
          "text": [
            "   fecha_dato ind_empleado pais_residencia sexo  fecha_alta tiprel_1mes  \\\n",
            "0  2016-06-28            F              ES    V  1995-01-16           A   \n",
            "1  2016-06-28            N              ES    H  2013-08-28           I   \n",
            "2  2016-06-28            N              ES    V  2013-08-28           A   \n",
            "3  2016-06-28            N              ES    H  2013-08-28           I   \n",
            "4  2016-06-28            N              ES    H  2013-08-28           I   \n",
            "\n",
            "  indresi indext canal_entrada indfall         nomprov            segmento  \n",
            "0       S      N           KAT       N          MADRID            01 - TOP  \n",
            "1       S      N           KAT       N        ALICANTE   02 - PARTICULARES  \n",
            "2       S      N           KHE       N       CORUÑA, A  03 - UNIVERSITARIO  \n",
            "3       S      N           KHE       N       BARCELONA  03 - UNIVERSITARIO  \n",
            "4       S      N           KHE       N  BALEARS, ILLES  03 - UNIVERSITARIO  \n"
          ]
        }
      ]
    },
    {
      "cell_type": "code",
      "source": [
        "### DO NOT RUN PLZ (\n",
        "\n",
        "#df_test1['fecha_dato'] = pd.to_datetime(df_test1['fecha_dato'])\n",
        "#df_test1['fecha_alta'] = pd.to_datetime(df_test1['fecha_alta'])\n",
        "\n",
        "#df_test1['fecha_dato_month_year'] = df_test1['fecha_dato'].dt.to_period('M')\n",
        "#df_test1['fecha_alta_month_year'] = df_test1['fecha_alta'].dt.to_period('M')\n",
        "\n",
        "#df_test1.drop(['fecha_dato', 'fecha_alta'], axis=1, inplace=True)\n",
        "\n",
        "print(df_test1.head())"
      ],
      "metadata": {
        "colab": {
          "base_uri": "https://localhost:8080/"
        },
        "id": "n72Wi2_VmYG5",
        "outputId": "f6ba3fb2-aff5-459f-ad09-011c9413edcc"
      },
      "execution_count": 47,
      "outputs": [
        {
          "output_type": "stream",
          "name": "stdout",
          "text": [
            "   fecha_dato  ncodpers ind_empleado pais_residencia sexo  age  fecha_alta  \\\n",
            "0  2016-06-28     15889            F              ES    V   56  1995-01-16   \n",
            "1  2016-06-28   1170544            N              ES    H   36  2013-08-28   \n",
            "2  2016-06-28   1170545            N              ES    V   22  2013-08-28   \n",
            "3  2016-06-28   1170547            N              ES    H   22  2013-08-28   \n",
            "4  2016-06-28   1170548            N              ES    H   22  2013-08-28   \n",
            "\n",
            "   ind_nuevo  antiguedad  indrel  ...  indresi indext canal_entrada indfall  \\\n",
            "0          0         256       1  ...        S      N           KAT       N   \n",
            "1          0          34       1  ...        S      N           KAT       N   \n",
            "2          0          34       1  ...        S      N           KHE       N   \n",
            "3          0          34       1  ...        S      N           KHE       N   \n",
            "4          0          34       1  ...        S      N           KHE       N   \n",
            "\n",
            "  tipodom cod_prov         nomprov  ind_actividad_cliente        renta  \\\n",
            "0       1     28.0          MADRID                      1    326124.90   \n",
            "1       1      3.0        ALICANTE                      0           NA   \n",
            "2       1     15.0       CORUÑA, A                      1           NA   \n",
            "3       1      8.0       BARCELONA                      0    148402.98   \n",
            "4       1      7.0  BALEARS, ILLES                      0    106885.80   \n",
            "\n",
            "             segmento  \n",
            "0            01 - TOP  \n",
            "1   02 - PARTICULARES  \n",
            "2  03 - UNIVERSITARIO  \n",
            "3  03 - UNIVERSITARIO  \n",
            "4  03 - UNIVERSITARIO  \n",
            "\n",
            "[5 rows x 22 columns]\n"
          ]
        }
      ]
    },
    {
      "cell_type": "code",
      "source": [
        "print(\"\\nCategorical Features:\")\n",
        "print(c_features)"
      ],
      "metadata": {
        "colab": {
          "base_uri": "https://localhost:8080/"
        },
        "id": "jNbO88_8tCUc",
        "outputId": "5e6c34d1-f872-43a9-f5f1-34dbf733da34"
      },
      "execution_count": 48,
      "outputs": [
        {
          "output_type": "stream",
          "name": "stdout",
          "text": [
            "\n",
            "Categorical Features:\n",
            "['fecha_dato', 'ind_empleado', 'pais_residencia', 'sexo', 'fecha_alta', 'tiprel_1mes', 'indresi', 'indext', 'canal_entrada', 'indfall', 'nomprov', 'segmento']\n"
          ]
        }
      ]
    },
    {
      "cell_type": "code",
      "source": [
        "missing_count = df_test1.isnull().sum()\n",
        "missing_count_sorted = missing_count.sort_values(ascending=False)\n",
        "\n",
        "outliers_df_test1 = df_test1.describe().transpose()\n",
        "\n",
        "print(\"Missing Values Count (Sorted):\")\n",
        "print(missing_count_sorted)\n",
        "\n",
        "print(\"\\nPotential Outliers:\")\n",
        "print(outliers_df_test1)\n"
      ],
      "metadata": {
        "colab": {
          "base_uri": "https://localhost:8080/"
        },
        "id": "tb8nwznEnlz6",
        "outputId": "5215c91e-71f9-4e03-c85f-f5c761bcac87"
      },
      "execution_count": 49,
      "outputs": [
        {
          "output_type": "stream",
          "name": "stdout",
          "text": [
            "Missing Values Count (Sorted):\n",
            "cod_prov                 3996\n",
            "nomprov                  3996\n",
            "segmento                 2248\n",
            "canal_entrada            2081\n",
            "indrel_1mes                23\n",
            "tiprel_1mes                23\n",
            "sexo                        5\n",
            "age                         0\n",
            "ind_empleado                0\n",
            "ncodpers                    0\n",
            "fecha_dato                  0\n",
            "pais_residencia             0\n",
            "fecha_alta                  0\n",
            "ind_nuevo                   0\n",
            "indext                      0\n",
            "indresi                     0\n",
            "antiguedad                  0\n",
            "indrel                      0\n",
            "tipodom                     0\n",
            "indfall                     0\n",
            "ind_actividad_cliente       0\n",
            "renta                       0\n",
            "dtype: int64\n",
            "\n",
            "Potential Outliers:\n",
            "                          count           mean            std      min  \\\n",
            "ncodpers               929615.0  879456.621092  448156.939785  15889.0   \n",
            "age                    929615.0      40.249821      17.185119      2.0   \n",
            "ind_nuevo              929615.0       0.027849       0.164541      0.0   \n",
            "antiguedad             929615.0      80.955553      67.241850      0.0   \n",
            "indrel                 929615.0       1.177422       4.166039      1.0   \n",
            "indrel_1mes            929592.0       1.000058       0.010779      1.0   \n",
            "tipodom                929615.0       1.000000       0.000000      1.0   \n",
            "cod_prov               925619.0      26.546150      12.836614      1.0   \n",
            "ind_actividad_cliente  929615.0       0.425272       0.494384      0.0   \n",
            "\n",
            "                            25%       50%        75%        max  \n",
            "ncodpers               483361.5  966425.0  1264316.5  1553689.0  \n",
            "age                        25.0      39.0       51.0      164.0  \n",
            "ind_nuevo                   0.0       0.0        0.0        1.0  \n",
            "antiguedad                 23.0      55.0      136.0      257.0  \n",
            "indrel                      1.0       1.0        1.0       99.0  \n",
            "indrel_1mes                 1.0       1.0        1.0        3.0  \n",
            "tipodom                     1.0       1.0        1.0        1.0  \n",
            "cod_prov                   15.0      28.0       35.0       52.0  \n",
            "ind_actividad_cliente       0.0       0.0        1.0        1.0  \n"
          ]
        }
      ]
    },
    {
      "cell_type": "code",
      "source": [
        "from sklearn.preprocessing import LabelEncoder\n",
        "\n",
        "label_encoder = LabelEncoder()\n",
        "\n",
        "# Concatenate the one-hot encoded target columns\n",
        "target_cols = df_test1.columns[df_test1.columns.str.startswith('ind_')].tolist()\n",
        "target_df_test1 = df_test1[target_cols]\n",
        "\n",
        "# Convert one-hot encoded vectors to label encodings\n",
        "for column in target_df_test1.columns:\n",
        "    target_df_test1.loc[:, column] = label_encoder.fit_transform(target_df_test1[column])\n",
        "\n",
        "# Sum the encoded values across columns to represent the new column\n",
        "target_df_test1['checked_services'] = target_df_test1.sum(axis=1)\n",
        "\n",
        "# Create user-item interaction matrix without 'ncodpers' column\n",
        "user_product_matrix = target_df_test1.copy()\n",
        "\n",
        "# Display the user-item interaction matrix\n",
        "print(\"User-Item Interaction Matrix (Test):\")\n",
        "print(user_product_matrix.head())\n"
      ],
      "metadata": {
        "colab": {
          "base_uri": "https://localhost:8080/"
        },
        "id": "xdv1pt_nuLy1",
        "outputId": "d2ae2a99-dc54-451b-e8fe-7303fa77a80f"
      },
      "execution_count": 50,
      "outputs": [
        {
          "output_type": "stream",
          "name": "stdout",
          "text": [
            "User-Item Interaction Matrix (Test):\n",
            "  ind_empleado  ind_nuevo  ind_actividad_cliente checked_services\n",
            "0            2          0                      1                3\n",
            "1            3          0                      0                3\n",
            "2            3          0                      1                4\n",
            "3            3          0                      0                3\n",
            "4            3          0                      0                3\n"
          ]
        },
        {
          "output_type": "stream",
          "name": "stderr",
          "text": [
            "<ipython-input-50-0cb61f7041e9>:14: SettingWithCopyWarning: \n",
            "A value is trying to be set on a copy of a slice from a DataFrame.\n",
            "Try using .loc[row_indexer,col_indexer] = value instead\n",
            "\n",
            "See the caveats in the documentation: https://pandas.pydata.org/pandas-docs/stable/user_guide/indexing.html#returning-a-view-versus-a-copy\n",
            "  target_df_test1['checked_services'] = target_df_test1.sum(axis=1)\n"
          ]
        }
      ]
    },
    {
      "cell_type": "code",
      "source": [
        "## visualize it\n",
        "\n",
        "from tabulate import tabulate\n",
        "\n",
        "print(\"User-Item Interaction Matrix (Test):\")\n",
        "print(tabulate(user_product_matrix.head(), headers='keys', tablefmt='pretty'))\n"
      ],
      "metadata": {
        "colab": {
          "base_uri": "https://localhost:8080/"
        },
        "id": "Zq08JUZQosW-",
        "outputId": "c510f667-9d42-429a-8d60-1f89508e7768"
      },
      "execution_count": 51,
      "outputs": [
        {
          "output_type": "stream",
          "name": "stdout",
          "text": [
            "User-Item Interaction Matrix (Test):\n",
            "+---+--------------+-----------+-----------------------+------------------+\n",
            "|   | ind_empleado | ind_nuevo | ind_actividad_cliente | checked_services |\n",
            "+---+--------------+-----------+-----------------------+------------------+\n",
            "| 0 |      2       |     0     |           1           |        3         |\n",
            "| 1 |      3       |     0     |           0           |        3         |\n",
            "| 2 |      3       |     0     |           1           |        4         |\n",
            "| 3 |      3       |     0     |           0           |        3         |\n",
            "| 4 |      3       |     0     |           0           |        3         |\n",
            "+---+--------------+-----------+-----------------------+------------------+\n"
          ]
        }
      ]
    },
    {
      "cell_type": "markdown",
      "source": [
        "ind_empleado = Employee index: A active, B ex employed, F filial, N not employee, P pasive\n",
        "\n",
        "ind_nuevo\t= New customer Index. 1 if the customer registered in the last 6 months.\n",
        "\n",
        "ind_actividad_cliente\t= Activity index (1, active customer; 0, inactive customer)"
      ],
      "metadata": {
        "id": "bdcvYVyDuaZp"
      }
    },
    {
      "cell_type": "code",
      "source": [
        "df_test1['checked_services'] = target_df_test1['checked_services']\n",
        "\n",
        "print(df_test1.head())\n",
        "print(df_test1.columns)"
      ],
      "metadata": {
        "colab": {
          "base_uri": "https://localhost:8080/"
        },
        "id": "HSlvXJN7pDjH",
        "outputId": "6f1c29a2-383c-4405-ff3d-f90cae72f3ba"
      },
      "execution_count": 52,
      "outputs": [
        {
          "output_type": "stream",
          "name": "stdout",
          "text": [
            "   fecha_dato  ncodpers ind_empleado pais_residencia sexo  age  fecha_alta  \\\n",
            "0  2016-06-28     15889            F              ES    V   56  1995-01-16   \n",
            "1  2016-06-28   1170544            N              ES    H   36  2013-08-28   \n",
            "2  2016-06-28   1170545            N              ES    V   22  2013-08-28   \n",
            "3  2016-06-28   1170547            N              ES    H   22  2013-08-28   \n",
            "4  2016-06-28   1170548            N              ES    H   22  2013-08-28   \n",
            "\n",
            "   ind_nuevo  antiguedad  indrel  ...  indext canal_entrada indfall tipodom  \\\n",
            "0          0         256       1  ...       N           KAT       N       1   \n",
            "1          0          34       1  ...       N           KAT       N       1   \n",
            "2          0          34       1  ...       N           KHE       N       1   \n",
            "3          0          34       1  ...       N           KHE       N       1   \n",
            "4          0          34       1  ...       N           KHE       N       1   \n",
            "\n",
            "  cod_prov         nomprov  ind_actividad_cliente        renta  \\\n",
            "0     28.0          MADRID                      1    326124.90   \n",
            "1      3.0        ALICANTE                      0           NA   \n",
            "2     15.0       CORUÑA, A                      1           NA   \n",
            "3      8.0       BARCELONA                      0    148402.98   \n",
            "4      7.0  BALEARS, ILLES                      0    106885.80   \n",
            "\n",
            "             segmento  checked_services  \n",
            "0            01 - TOP                 3  \n",
            "1   02 - PARTICULARES                 3  \n",
            "2  03 - UNIVERSITARIO                 4  \n",
            "3  03 - UNIVERSITARIO                 3  \n",
            "4  03 - UNIVERSITARIO                 3  \n",
            "\n",
            "[5 rows x 23 columns]\n",
            "Index(['fecha_dato', 'ncodpers', 'ind_empleado', 'pais_residencia', 'sexo',\n",
            "       'age', 'fecha_alta', 'ind_nuevo', 'antiguedad', 'indrel', 'indrel_1mes',\n",
            "       'tiprel_1mes', 'indresi', 'indext', 'canal_entrada', 'indfall',\n",
            "       'tipodom', 'cod_prov', 'nomprov', 'ind_actividad_cliente', 'renta',\n",
            "       'segmento', 'checked_services'],\n",
            "      dtype='object')\n"
          ]
        }
      ]
    },
    {
      "cell_type": "code",
      "source": [
        "min_products = df_test1['checked_services'].min()\n",
        "\n",
        "# Calculate maximum value\n",
        "max_products = df_test1['checked_services'].max()\n",
        "\n",
        "# Calculate mean value\n",
        "mean_products = df_test1['checked_services'].mean()\n",
        "\n",
        "# Print the results\n",
        "print(\"Minimum number of products bought:\", min_products)\n",
        "print(\"Maximum number of products bought:\", max_products)\n",
        "print(\"Mean number of products bought:\", mean_products)\n"
      ],
      "metadata": {
        "colab": {
          "base_uri": "https://localhost:8080/"
        },
        "id": "E3aADl_ov_WM",
        "outputId": "afad2c5c-10e0-427b-f497-afd6c7f8b874"
      },
      "execution_count": 53,
      "outputs": [
        {
          "output_type": "stream",
          "name": "stdout",
          "text": [
            "Minimum number of products bought: 0\n",
            "Maximum number of products bought: 5\n",
            "Mean number of products bought: 3.45201185436982\n"
          ]
        }
      ]
    },
    {
      "cell_type": "markdown",
      "source": [
        "I cannot delete some rows based on the products because the average is low."
      ],
      "metadata": {
        "id": "bt7DWqebwHfB"
      }
    },
    {
      "cell_type": "code",
      "source": [
        "#threshold = 0\n",
        "#new_dft = df_test1[df_test1['checked_services'] > threshold]\n",
        "\n",
        "print(\"Shape of filtered DataFrame:\\n\", df_test1.shape)\n",
        "\n",
        "print(\"\\nNew Dataset:\")\n",
        "#print(new_dft.head())\n"
      ],
      "metadata": {
        "colab": {
          "base_uri": "https://localhost:8080/"
        },
        "id": "KNQf9VngwV_h",
        "outputId": "04024927-d231-491a-9438-f1f58bfa94bf"
      },
      "execution_count": 54,
      "outputs": [
        {
          "output_type": "stream",
          "name": "stdout",
          "text": [
            "Shape of filtered DataFrame:\n",
            " (929615, 23)\n",
            "\n",
            "New Dataset:\n"
          ]
        }
      ]
    },
    {
      "cell_type": "code",
      "source": [
        "df_test1 = df_test1.copy()\n",
        "\n",
        "# Convert 'checked_services' column to numerical\n",
        "df_test1['checked_services'] = pd.to_numeric(df_test1['checked_services'], errors='coerce')\n",
        "\n",
        "# Convert 'renta' column to numerical\n",
        "df_test1['renta'] = pd.to_numeric(df_test1['renta'], errors='coerce')\n",
        "\n",
        "# Select numerical and categorical features\n",
        "new_dft_num_feat = df_test1.select_dtypes(include=['int64', 'float64']).columns.tolist()\n",
        "new_dft_cat_feat = df_test1.select_dtypes(include=['object']).columns.tolist()\n",
        "\n",
        "# Display the numerical and categorical features\n",
        "new_dft_numerical_features = len(new_dft_num_feat)\n",
        "new_dft_categorical_features = len(new_dft_cat_feat)\n",
        "\n",
        "print(\"Numerical Features ({}):\".format(new_dft_numerical_features))\n",
        "print(new_dft_num_feat)\n",
        "print(\"\\nCategorical Features ({}):\".format(new_dft_categorical_features))\n",
        "print(new_dft_cat_feat)\n"
      ],
      "metadata": {
        "colab": {
          "base_uri": "https://localhost:8080/"
        },
        "id": "33_QReffqC8g",
        "outputId": "23f8cb55-1a97-43bc-906b-8c524886e45b"
      },
      "execution_count": 55,
      "outputs": [
        {
          "output_type": "stream",
          "name": "stdout",
          "text": [
            "Numerical Features (11):\n",
            "['ncodpers', 'age', 'ind_nuevo', 'antiguedad', 'indrel', 'indrel_1mes', 'tipodom', 'cod_prov', 'ind_actividad_cliente', 'renta', 'checked_services']\n",
            "\n",
            "Categorical Features (12):\n",
            "['fecha_dato', 'ind_empleado', 'pais_residencia', 'sexo', 'fecha_alta', 'tiprel_1mes', 'indresi', 'indext', 'canal_entrada', 'indfall', 'nomprov', 'segmento']\n"
          ]
        }
      ]
    },
    {
      "cell_type": "code",
      "source": [
        "### check before doing it...\n",
        "\n",
        "import pandas as pd\n",
        "import numpy as np\n",
        "import xgboost as xgb\n",
        "\n",
        "# Assuming new_df is your DataFrame with missing values\n",
        "# Check for missing values before imputation\n",
        "print(\"Number of missing values before imputation:\")\n",
        "print(df_test1.isnull().sum())\n",
        "\n",
        "# Define XGBoost model\n",
        "xgb_model = xgb.XGBRegressor()\n",
        "\n",
        "# Define features and target variable\n",
        "X = df_test1[new_dft_num_feat].values  # Convert to numpy array\n",
        "y = df_test1['checked_services'].values  # Replace 'checked_services' with your target variable\n",
        "\n",
        "# Train the model\n",
        "xgb_model.fit(X, y)  # Make sure to include the target variable\n",
        "\n",
        "# Use the trained model to predict missing values\n",
        "imputed_values = xgb_model.predict(X)\n",
        "\n",
        "# Replace missing values in your dataframe\n",
        "df_test1[new_dft_num_feat] = np.where(df_test1[new_dft_num_feat].isnull(), imputed_values.reshape(-1, 1), df_test1[new_dft_num_feat])\n",
        "\n",
        "# Check for missing values after imputation\n",
        "print(\"\\nNumber of missing values after imputation:\")\n",
        "print(df_test1.isnull().sum())\n"
      ],
      "metadata": {
        "colab": {
          "base_uri": "https://localhost:8080/"
        },
        "id": "Hbt0sv-Tqn7Y",
        "outputId": "d9aecca4-90f7-4864-9bcc-441403e119b0"
      },
      "execution_count": 56,
      "outputs": [
        {
          "output_type": "stream",
          "name": "stdout",
          "text": [
            "Number of missing values before imputation:\n",
            "fecha_dato                    0\n",
            "ncodpers                      0\n",
            "ind_empleado                  0\n",
            "pais_residencia               0\n",
            "sexo                          5\n",
            "age                           0\n",
            "fecha_alta                    0\n",
            "ind_nuevo                     0\n",
            "antiguedad                    0\n",
            "indrel                        0\n",
            "indrel_1mes                  23\n",
            "tiprel_1mes                  23\n",
            "indresi                       0\n",
            "indext                        0\n",
            "canal_entrada              2081\n",
            "indfall                       0\n",
            "tipodom                       0\n",
            "cod_prov                   3996\n",
            "nomprov                    3996\n",
            "ind_actividad_cliente         0\n",
            "renta                    227965\n",
            "segmento                   2248\n",
            "checked_services              0\n",
            "dtype: int64\n",
            "\n",
            "Number of missing values after imputation:\n",
            "fecha_dato                  0\n",
            "ncodpers                    0\n",
            "ind_empleado                0\n",
            "pais_residencia             0\n",
            "sexo                        5\n",
            "age                         0\n",
            "fecha_alta                  0\n",
            "ind_nuevo                   0\n",
            "antiguedad                  0\n",
            "indrel                      0\n",
            "indrel_1mes                 0\n",
            "tiprel_1mes                23\n",
            "indresi                     0\n",
            "indext                      0\n",
            "canal_entrada            2081\n",
            "indfall                     0\n",
            "tipodom                     0\n",
            "cod_prov                    0\n",
            "nomprov                  3996\n",
            "ind_actividad_cliente       0\n",
            "renta                       0\n",
            "segmento                 2248\n",
            "checked_services            0\n",
            "dtype: int64\n"
          ]
        }
      ]
    },
    {
      "cell_type": "markdown",
      "source": [
        "Ready to make model cuz I adjusted both train and test file"
      ],
      "metadata": {
        "id": "Oh0hYDdM0eJt"
      }
    },
    {
      "cell_type": "code",
      "source": [
        "### features for train\n",
        "\n",
        "print(\"Numerical Features ({}):\".format(new_numerical_features))\n",
        "print(new_num_feat)\n",
        "print(\"\\nCategorical Features ({}):\".format(new_categorical_features))\n",
        "print(new_cat_feat)"
      ],
      "metadata": {
        "colab": {
          "base_uri": "https://localhost:8080/"
        },
        "id": "gvuOHnq4b10G",
        "outputId": "351b24c2-7861-48e5-d351-93535b889e7c"
      },
      "execution_count": 57,
      "outputs": [
        {
          "output_type": "stream",
          "name": "stdout",
          "text": [
            "Numerical Features (35):\n",
            "['ncodpers', 'age', 'ind_nuevo', 'antiguedad', 'indrel', 'indrel_1mes', 'tipodom', 'cod_prov', 'ind_actividad_cliente', 'renta', 'ind_ahor_fin_ult1', 'ind_aval_fin_ult1', 'ind_cco_fin_ult1', 'ind_cder_fin_ult1', 'ind_cno_fin_ult1', 'ind_ctju_fin_ult1', 'ind_ctma_fin_ult1', 'ind_ctop_fin_ult1', 'ind_ctpp_fin_ult1', 'ind_deco_fin_ult1', 'ind_deme_fin_ult1', 'ind_dela_fin_ult1', 'ind_ecue_fin_ult1', 'ind_fond_fin_ult1', 'ind_hip_fin_ult1', 'ind_plan_fin_ult1', 'ind_pres_fin_ult1', 'ind_reca_fin_ult1', 'ind_tjcr_fin_ult1', 'ind_valo_fin_ult1', 'ind_viv_fin_ult1', 'ind_nomina_ult1', 'ind_nom_pens_ult1', 'ind_recibo_ult1', 'checked_services']\n",
            "\n",
            "Categorical Features (12):\n",
            "['fecha_dato', 'ind_empleado', 'pais_residencia', 'sexo', 'fecha_alta', 'tiprel_1mes', 'indresi', 'indext', 'canal_entrada', 'indfall', 'nomprov', 'segmento']\n"
          ]
        }
      ]
    },
    {
      "cell_type": "code",
      "source": [
        "### features for test\n",
        "\n",
        "print(f\"Number of features: {nf}\")\n",
        "print(\"\\nNumerical Features:\")\n",
        "print(n_features)\n",
        "print(\"\\nCategorical Features:\")\n",
        "print(c_features)"
      ],
      "metadata": {
        "colab": {
          "base_uri": "https://localhost:8080/"
        },
        "id": "zco7Pn0BcTbE",
        "outputId": "0a0dd216-54bc-4146-9b36-df1b863b2f3e"
      },
      "execution_count": 58,
      "outputs": [
        {
          "output_type": "stream",
          "name": "stdout",
          "text": [
            "Number of features: 22\n",
            "\n",
            "Numerical Features:\n",
            "['ncodpers', 'age', 'ind_nuevo', 'antiguedad', 'indrel', 'indrel_1mes', 'tipodom', 'cod_prov', 'ind_actividad_cliente', 'renta']\n",
            "\n",
            "Categorical Features:\n",
            "['fecha_dato', 'ind_empleado', 'pais_residencia', 'sexo', 'fecha_alta', 'tiprel_1mes', 'indresi', 'indext', 'canal_entrada', 'indfall', 'nomprov', 'segmento']\n"
          ]
        }
      ]
    },
    {
      "cell_type": "code",
      "source": [
        "# train features\n",
        "numerical_features_train = [new_num_feat]\n",
        "categorical_features_train = [new_cat_feat]\n",
        "\n",
        "target_variable_train = 'checked_services'\n",
        "\n",
        "# test features\n",
        "numerical_features_test = [n_features]\n",
        "categorical_features_test = [c_features]\n",
        "\n",
        "target_variable_test = 'checked_services'"
      ],
      "metadata": {
        "id": "qhNXHSvwwfZX"
      },
      "execution_count": 59,
      "outputs": []
    },
    {
      "cell_type": "code",
      "source": [
        "# Split train and test sets into features and target variable\n",
        "X_train = new_df.drop(columns=[target_variable_train])\n",
        "y_train = new_df[target_variable_train]\n",
        "\n",
        "X_test = df_test1.drop(columns=[target_variable_test])\n",
        "y_test = df_test1[target_variable_test]"
      ],
      "metadata": {
        "id": "QFy7iI4zmkKW"
      },
      "execution_count": 60,
      "outputs": []
    },
    {
      "cell_type": "code",
      "source": [
        "for column in categorical_features_train:\n",
        "    unique_values = new_df[column].value_counts()\n",
        "    print(f\"Unique values in {column}:\\n{unique_values}\")"
      ],
      "metadata": {
        "colab": {
          "base_uri": "https://localhost:8080/"
        },
        "id": "ylZADw_3rHoH",
        "outputId": "5f0db0ff-6b16-4c64-8f9a-8d15c9600f2e"
      },
      "execution_count": 61,
      "outputs": [
        {
          "output_type": "stream",
          "name": "stdout",
          "text": [
            "Unique values in ['fecha_dato', 'ind_empleado', 'pais_residencia', 'sexo', 'fecha_alta', 'tiprel_1mes', 'indresi', 'indext', 'canal_entrada', 'indfall', 'nomprov', 'segmento']:\n",
            "fecha_dato  ind_empleado  pais_residencia  sexo  fecha_alta  tiprel_1mes  indresi  indext  canal_entrada  indfall  nomprov    segmento          \n",
            "2015-01-28  N             ES               H     2014-07-28  A            S        N       KHE            N        CORUÑA, A  03 - UNIVERSITARIO    96\n",
            "                                                 2014-08-04  A            S        N       KHE            N        CORUÑA, A  03 - UNIVERSITARIO    81\n",
            "                                                 2013-07-22  A            S        N       KHE            N        BARCELONA  03 - UNIVERSITARIO    76\n",
            "                                           V     2014-07-28  A            S        N       KHE            N        CORUÑA, A  03 - UNIVERSITARIO    64\n",
            "                                           H     2014-07-28  A            S        N       KHE            N        BARCELONA  03 - UNIVERSITARIO    63\n",
            "                                                                                                                                                    ..\n",
            "                                                 2014-08-14  A            S        N       KFC            N        TOLEDO     02 - PARTICULARES      1\n",
            "                                                                                           RED            N        BARCELONA  02 - PARTICULARES      1\n",
            "                                                                                                                   GRANADA    02 - PARTICULARES      1\n",
            "                                                                                                                   ZARAGOZA   03 - UNIVERSITARIO     1\n",
            "                                                                                           KAT            N        VALENCIA   02 - PARTICULARES      1\n",
            "Name: count, Length: 166042, dtype: int64\n"
          ]
        }
      ]
    },
    {
      "cell_type": "code",
      "source": [
        "from sklearn.preprocessing import LabelEncoder\n",
        "label_encoder = LabelEncoder()\n",
        "\n",
        "categorical_columns = ['ind_empleado', 'pais_residencia', 'sexo', 'tiprel_1mes',\n",
        "                       'indresi', 'indext', 'canal_entrada', 'indfall', 'segmento']\n",
        "\n",
        "for column in categorical_columns:\n",
        "    new_df[column] = label_encoder.fit_transform(new_df[column])\n",
        "\n",
        "print(new_df.head())"
      ],
      "metadata": {
        "colab": {
          "base_uri": "https://localhost:8080/"
        },
        "id": "EtTNd_gwmJub",
        "outputId": "f0e757ac-cd07-4c37-959e-29d83f9b7fde"
      },
      "execution_count": 62,
      "outputs": [
        {
          "output_type": "stream",
          "name": "stdout",
          "text": [
            "    fecha_dato   ncodpers  ind_empleado  pais_residencia  sexo   age  \\\n",
            "0   2015-01-28  1375586.0             3               28     0  35.0   \n",
            "4   2015-01-28  1050614.0             3               28     1  23.0   \n",
            "7   2015-01-28  1050617.0             3               28     0  23.0   \n",
            "12  2015-01-28  1050623.0             3               28     0  23.0   \n",
            "13  2015-01-28  1050624.0             3               28     0  65.0   \n",
            "\n",
            "    fecha_alta  ind_nuevo  antiguedad  indrel  ...  ind_plan_fin_ult1  \\\n",
            "0   2015-01-12        0.0         6.0     1.0  ...                0.0   \n",
            "4   2012-08-10        0.0        35.0     1.0  ...                0.0   \n",
            "7   2012-08-10        0.0        35.0     1.0  ...                0.0   \n",
            "12  2012-08-10        0.0        35.0     1.0  ...                0.0   \n",
            "13  2012-08-10        0.0        35.0     1.0  ...                0.0   \n",
            "\n",
            "    ind_pres_fin_ult1  ind_reca_fin_ult1  ind_tjcr_fin_ult1  \\\n",
            "0                 0.0                0.0                0.0   \n",
            "4                 0.0                0.0                0.0   \n",
            "7                 0.0                0.0                0.0   \n",
            "12                0.0                0.0                0.0   \n",
            "13                0.0                0.0                0.0   \n",
            "\n",
            "    ind_valo_fin_ult1  ind_viv_fin_ult1  ind_nomina_ult1  ind_nom_pens_ult1  \\\n",
            "0                 0.0               0.0              0.0                0.0   \n",
            "4                 0.0               0.0              0.0                0.0   \n",
            "7                 0.0               0.0              0.0                0.0   \n",
            "12                0.0               0.0              0.0                0.0   \n",
            "13                0.0               0.0              0.0                0.0   \n",
            "\n",
            "   ind_recibo_ult1  checked_services  \n",
            "0              0.0               5.0  \n",
            "4              0.0               5.0  \n",
            "7              0.0               5.0  \n",
            "12             0.0               5.0  \n",
            "13             0.0               5.0  \n",
            "\n",
            "[5 rows x 47 columns]\n"
          ]
        }
      ]
    },
    {
      "cell_type": "code",
      "source": [
        "# Check if any non-numeric values are present in categorical features\n",
        "for column in categorical_features_train:\n",
        "    non_numeric_values = new_df[column].apply(lambda x: isinstance(x, str))\n",
        "    if non_numeric_values.any():\n",
        "        print(f\"Non-numeric values found in {column}\")\n",
        "        print(new_df.loc[non_numeric_values, column].unique())"
      ],
      "metadata": {
        "id": "n7mDsyDuqj81"
      },
      "execution_count": 63,
      "outputs": []
    },
    {
      "cell_type": "markdown",
      "source": [
        "Fixed non-numeric in the train set"
      ],
      "metadata": {
        "id": "DxddxTPerJO1"
      }
    },
    {
      "cell_type": "markdown",
      "source": [
        "It was my testing set that did not encode."
      ],
      "metadata": {
        "id": "K7zlkZzmta_z"
      }
    },
    {
      "cell_type": "code",
      "source": [
        "# Loop through categorical features in the test dataset\n",
        "for column in categorical_features_test:\n",
        "    unique_values = df_test1[column].value_counts()\n",
        "    print(f\"Unique values in {column}:\\n{unique_values}\")\n"
      ],
      "metadata": {
        "colab": {
          "base_uri": "https://localhost:8080/"
        },
        "id": "xIFvdFojxCB9",
        "outputId": "0a781082-fb43-4f40-cc33-9da197d81716"
      },
      "execution_count": 64,
      "outputs": [
        {
          "output_type": "stream",
          "name": "stdout",
          "text": [
            "Unique values in ['fecha_dato', 'ind_empleado', 'pais_residencia', 'sexo', 'fecha_alta', 'tiprel_1mes', 'indresi', 'indext', 'canal_entrada', 'indfall', 'nomprov', 'segmento']:\n",
            "fecha_dato  ind_empleado  pais_residencia  sexo  fecha_alta  tiprel_1mes  indresi  indext  canal_entrada  indfall  nomprov         segmento          \n",
            "2016-06-28  N             ES               V     2015-07-21  I            S        N       KHQ            N        BARCELONA       03 - UNIVERSITARIO    358\n",
            "                                           H     2013-07-22  I            S        N       KHE            N        BARCELONA       03 - UNIVERSITARIO    279\n",
            "                                                 2015-09-23  I            S        N       KHQ            N        MADRID          03 - UNIVERSITARIO    277\n",
            "                                                 2015-10-13  I            S        N       KHQ            N        MADRID          03 - UNIVERSITARIO    251\n",
            "                                                 2012-08-07  I            S        N       KHE            N        BARCELONA       03 - UNIVERSITARIO    246\n",
            "                                                                                                                                                        ... \n",
            "                                           V     2016-05-31  A            S        N       KHN            N        VALENCIA        03 - UNIVERSITARIO      1\n",
            "                                                                                           KHO            N        MADRID          03 - UNIVERSITARIO      1\n",
            "                                                                                   S       KHM            N        BALEARS, ILLES  02 - PARTICULARES       1\n",
            "                                                                                                                   CASTELLON       02 - PARTICULARES       1\n",
            "                                                                                                                   MADRID          02 - PARTICULARES       1\n",
            "Name: count, Length: 468302, dtype: int64\n"
          ]
        }
      ]
    },
    {
      "cell_type": "code",
      "source": [
        "from sklearn.preprocessing import LabelEncoder\n",
        "label_encoder = LabelEncoder()\n",
        "\n",
        "for column in categorical_columns:\n",
        "    df_test1[column] = label_encoder.fit_transform(df_test1[column])\n",
        "\n",
        "print(df_test1.head())"
      ],
      "metadata": {
        "colab": {
          "base_uri": "https://localhost:8080/"
        },
        "id": "Q4JXzQT4nJGR",
        "outputId": "2571a0f0-0228-4f2b-9611-c629a709bfea"
      },
      "execution_count": 65,
      "outputs": [
        {
          "output_type": "stream",
          "name": "stdout",
          "text": [
            "   fecha_dato   ncodpers  ind_empleado  pais_residencia  sexo   age  \\\n",
            "0  2016-06-28    15889.0             2               36     1  56.0   \n",
            "1  2016-06-28  1170544.0             3               36     0  36.0   \n",
            "2  2016-06-28  1170545.0             3               36     1  22.0   \n",
            "3  2016-06-28  1170547.0             3               36     0  22.0   \n",
            "4  2016-06-28  1170548.0             3               36     0  22.0   \n",
            "\n",
            "   fecha_alta  ind_nuevo  antiguedad  indrel  ...  indext  canal_entrada  \\\n",
            "0  1995-01-16        0.0       256.0     1.0  ...       0             24   \n",
            "1  2013-08-28        0.0        34.0     1.0  ...       0             24   \n",
            "2  2013-08-28        0.0        34.0     1.0  ...       0            150   \n",
            "3  2013-08-28        0.0        34.0     1.0  ...       0            150   \n",
            "4  2013-08-28        0.0        34.0     1.0  ...       0            150   \n",
            "\n",
            "   indfall  tipodom  cod_prov         nomprov  ind_actividad_cliente  \\\n",
            "0        0      1.0      28.0          MADRID                    1.0   \n",
            "1        0      1.0       3.0        ALICANTE                    0.0   \n",
            "2        0      1.0      15.0       CORUÑA, A                    1.0   \n",
            "3        0      1.0       8.0       BARCELONA                    0.0   \n",
            "4        0      1.0       7.0  BALEARS, ILLES                    0.0   \n",
            "\n",
            "           renta segmento  checked_services  \n",
            "0  326124.900000        0               3.0  \n",
            "1       3.000001        1               3.0  \n",
            "2       3.999999        2               4.0  \n",
            "3  148402.980000        2               3.0  \n",
            "4  106885.800000        2               3.0  \n",
            "\n",
            "[5 rows x 23 columns]\n"
          ]
        }
      ]
    },
    {
      "cell_type": "code",
      "source": [
        "non_numeric_train = new_df.select_dtypes(exclude=['number'])\n",
        "if non_numeric_train.empty:\n",
        "    print(\"No non-numeric values found in the train set.\")\n",
        "else:\n",
        "    print(\"Non-numeric values found in the train set.\")\n",
        "\n",
        "non_numeric_test = df_test1.select_dtypes(exclude=['number'])\n",
        "if non_numeric_test.empty:\n",
        "    print(\"No non-numeric values found in the test set.\")\n",
        "else:\n",
        "    print(\"Non-numeric values found in the test set.\")"
      ],
      "metadata": {
        "colab": {
          "base_uri": "https://localhost:8080/"
        },
        "id": "K8G0uvIsnvAy",
        "outputId": "922ed20c-c1db-4941-8f21-16f7f629c6c0"
      },
      "execution_count": 66,
      "outputs": [
        {
          "output_type": "stream",
          "name": "stdout",
          "text": [
            "Non-numeric values found in the train set.\n",
            "Non-numeric values found in the test set.\n"
          ]
        }
      ]
    },
    {
      "cell_type": "code",
      "source": [
        "# Check for non-numeric values in the dataframe\n",
        "non_numeric_columns_train = X_train.select_dtypes(exclude=['number']).columns.tolist()\n",
        "non_numeric_columns_test = X_test.select_dtypes(exclude=['number']).columns.tolist()\n",
        "\n",
        "print(\"Non-numeric columns in train set:\", non_numeric_columns_train)\n",
        "print(\"Non-numeric columns in test set:\", non_numeric_columns_test)\n"
      ],
      "metadata": {
        "colab": {
          "base_uri": "https://localhost:8080/"
        },
        "id": "kT3FTQg_rmr2",
        "outputId": "08c60340-d404-4ef9-e42a-5962c8df75a7"
      },
      "execution_count": 67,
      "outputs": [
        {
          "output_type": "stream",
          "name": "stdout",
          "text": [
            "Non-numeric columns in train set: ['fecha_dato', 'ind_empleado', 'pais_residencia', 'sexo', 'fecha_alta', 'tiprel_1mes', 'indresi', 'indext', 'canal_entrada', 'indfall', 'nomprov', 'segmento']\n",
            "Non-numeric columns in test set: ['fecha_dato', 'ind_empleado', 'pais_residencia', 'sexo', 'fecha_alta', 'tiprel_1mes', 'indresi', 'indext', 'canal_entrada', 'indfall', 'nomprov', 'segmento']\n"
          ]
        }
      ]
    },
    {
      "cell_type": "code",
      "source": [
        "# key representing each number for your columns (for both train and test)\n",
        "\n",
        "key = {\n",
        "    'ind_empleado': {'A': 0, 'B': 1, 'F': 2, 'N': 3, 'P': 4},\n",
        "    'pais_residencia': {'ES': 0, 'CH': 1, 'DE': 2, 'GB': 3, 'BE': 4, 'DJ': 5, 'IE': 6, 'QA': 7, 'US': 8, 'VE': 9,\n",
        "                       'DO': 10, 'SE': 11, 'AR': 12, 'CA': 13, 'PL': 14, 'CN': 15, 'CM': 16, 'FR': 17, 'AT': 18,\n",
        "                       'RO': 19, 'LU': 20, 'PT': 21, 'CL': 22, 'IT': 23, 'MR': 24, 'MX': 25, 'SN': 26, 'BR': 27,\n",
        "                       'CO': 28, 'PE': 29, 'RU': 30, 'LT': 31, 'EE': 32, 'MA': 33, 'HN': 34, 'BG': 35, 'NO': 36,\n",
        "                       'GT': 37, 'UA': 38, 'NL': 39, 'GA': 40, 'IL': 41, 'JP': 42, 'EC': 43, 'IN': 44},\n",
        "    'sexo': {'V': 0, 'H': 1},\n",
        "    'tiprel_1mes': {'A': 0, 'I': 1, 'P': 2, 'R': 3},\n",
        "    'indresi': {'S': 0, 'N': 1},\n",
        "    'indext': {'N': 0, 'S': 1},\n",
        "    'canal_entrada': {'KAT': 0, 'KHE': 1, 'KFC': 2, 'KHN': 3, 'KFA': 4, 'KHM': 5, 'KHL': 6, 'RED': 7, 'KHQ': 8,\n",
        "                      'KHO': 9, 'KHK': 10, 'KAZ': 11, 'KEH': 12, 'KBG': 13, 'KHF': 14, 'KHC': 15, 'KHD': 16,\n",
        "                      'KAK': 17, 'KAD': 18, 'KDH': 19, 'KGC': 20},\n",
        "    'indfall': {'N': 0, 'S': 1},\n",
        "    'segmento': {'01 - TOP': 0, '02 - PARTICULARES': 1, '03 - UNIVERSITARIO': 2}\n",
        "}\n"
      ],
      "metadata": {
        "id": "lEgAiT3XvfcS"
      },
      "execution_count": 68,
      "outputs": []
    },
    {
      "cell_type": "code",
      "source": [
        "# Define categorical columns and their values for train and test datasets\n",
        "categorical_columns = ['ind_empleado','sexo', 'tiprel_1mes', 'indresi',\n",
        "                       'indext', 'indfall', 'segmento']\n",
        "\n",
        "# Define colors for train and test datasets\n",
        "train_color = 'skyblue'\n",
        "test_color = 'salmon'\n",
        "\n",
        "# Plot each categorical column\n",
        "for col in categorical_columns:\n",
        "    # Create subplots for train and test datasets\n",
        "    fig, axs = plt.subplots(1, 2, figsize=(15, 5))\n",
        "\n",
        "    # Train dataset\n",
        "    sns.countplot(data=new_df, x=col, ax=axs[0], color=train_color)\n",
        "    axs[0].set_title(f'Train Dataset - {col}')\n",
        "\n",
        "    # Test dataset\n",
        "    sns.countplot(data=df_test1, x=col, ax=axs[1], color=test_color)\n",
        "    axs[1].set_title(f'Test Dataset - {col}')\n",
        "\n",
        "    plt.tight_layout()\n",
        "    plt.show()\n"
      ],
      "metadata": {
        "colab": {
          "base_uri": "https://localhost:8080/",
          "height": 1000
        },
        "id": "M3f4FVsa1jmI",
        "outputId": "483fc894-b051-4e7b-891b-55b4c7e0c405"
      },
      "execution_count": 69,
      "outputs": [
        {
          "output_type": "display_data",
          "data": {
            "text/plain": [
              "<Figure size 1500x500 with 2 Axes>"
            ],
            "image/png": "[encoded data removed]"
          },
          "metadata": {}
        },
        {
          "output_type": "display_data",
          "data": {
            "text/plain": [
              "<Figure size 1500x500 with 2 Axes>"
            ],
            "image/png": "[encoded data removed]"
          },
          "metadata": {}
        },
        {
          "output_type": "display_data",
          "data": {
            "text/plain": [
              "<Figure size 1500x500 with 2 Axes>"
            ],
            "image/png": "[encoded data removed]"
          },
          "metadata": {}
        },
        {
          "output_type": "display_data",
          "data": {
            "text/plain": [
              "<Figure size 1500x500 with 2 Axes>"
            ],
            "image/png": "[encoded data removed]"
          },
          "metadata": {}
        },
        {
          "output_type": "display_data",
          "data": {
            "text/plain": [
              "<Figure size 1500x500 with 2 Axes>"
            ],
            "image/png": "[encoded data removed]"
          },
          "metadata": {}
        },
        {
          "output_type": "display_data",
          "data": {
            "text/plain": [
              "<Figure size 1500x500 with 2 Axes>"
            ],
            "image/png": "[encoded data removed]"
          },
          "metadata": {}
        },
        {
          "output_type": "display_data",
          "data": {
            "text/plain": [
              "<Figure size 1500x500 with 2 Axes>"
            ],
            "image/png": "[encoded data removed]"
          },
          "metadata": {}
        }
      ]
    },
    {
      "cell_type": "markdown",
      "source": [
        "XGBoost"
      ],
      "metadata": {
        "id": "jQNdW2oNpDw_"
      }
    },
    {
      "cell_type": "code",
      "source": [
        "# train features\n",
        "numerical_features_train = [new_num_feat]\n",
        "categorical_features_train = [new_cat_feat]\n",
        "\n",
        "target_variable_train = 'checked_services'\n",
        "\n",
        "# test features\n",
        "numerical_features_test = [n_features]\n",
        "categorical_features_test = [c_features]\n",
        "\n",
        "target_variable_test = 'checked_services'\n",
        "\n",
        "# Split train and test sets into features and target variable\n",
        "X_train = new_df.drop(columns=[target_variable_train])\n",
        "y_train = new_df[target_variable_train]\n",
        "\n",
        "X_test = df_test1.drop(columns=[target_variable_test])\n",
        "y_test = df_test1[target_variable_test]"
      ],
      "metadata": {
        "id": "lRABIKnAqj6f"
      },
      "execution_count": 70,
      "outputs": []
    },
    {
      "cell_type": "code",
      "source": [
        "# Split train and test sets into features and target variable\n",
        "X_train = new_df.drop(columns=[target_variable_train])\n",
        "y_train = new_df[target_variable_train]\n",
        "\n",
        "X_test = df_test1.drop(columns=[target_variable_test])\n",
        "y_test = df_test1[target_variable_test]\n",
        "\n",
        "# Drop date columns if they still exist in the DataFrame\n",
        "date_columns = ['fecha_dato', 'fecha_alta']\n",
        "new_df.drop(date_columns, axis=1, inplace=True, errors='ignore')\n",
        "\n",
        "\n",
        "# Select only numeric and categorical columns in the train set\n",
        "numeric_columns_train = X_train.select_dtypes(include=['int', 'float']).columns\n",
        "categorical_columns_train = X_train.select_dtypes(include=['object', 'category']).columns\n",
        "\n",
        "# Select only numeric and categorical columns in the test set\n",
        "numeric_columns_test = X_test.select_dtypes(include=['int', 'float']).columns\n",
        "categorical_columns_test = X_test.select_dtypes(include=['object', 'category']).columns\n",
        "\n",
        "# Ensure that all remaining columns in the train set are numeric or categorical\n",
        "numeric_df_train = X_train[numeric_columns_train]\n",
        "categorical_df_train = X_train[categorical_columns_train]\n",
        "\n",
        "# Ensure that all remaining columns in the test set are numeric or categorical\n",
        "numeric_df_test = X_test[numeric_columns_test]\n",
        "categorical_df_test = X_test[categorical_columns_test]\n",
        "\n",
        "# If categorical columns still exist, you may need to encode them for both train and test sets\n",
        "if not categorical_df_train.empty:\n",
        "    # Perform encoding for categorical columns in the train set\n",
        "    categorical_df_train = pd.get_dummies(categorical_df_train)\n",
        "\n",
        "# If categorical columns still exist, you may need to encode them for the test set\n",
        "if not categorical_df_test.empty:\n",
        "    # Perform encoding for categorical columns in the test set\n",
        "    categorical_df_test = pd.get_dummies(categorical_df_test)\n",
        "\n",
        "# Concatenate numeric and encoded categorical columns for the train set\n",
        "X_train_processed = pd.concat([numeric_df_train, categorical_df_train], axis=1)\n",
        "\n",
        "# Concatenate numeric and encoded categorical columns for the test set\n",
        "X_test_processed = pd.concat([numeric_df_test, categorical_df_test], axis=1)\n"
      ],
      "metadata": {
        "id": "4iewzPPd0UuV"
      },
      "execution_count": 81,
      "outputs": []
    },
    {
      "cell_type": "code",
      "source": [
        "print(\"Number of features used during training:\", len(X_train.columns))\n",
        "print(\"Number of columns in the test dataset:\", X_test.shape[1])"
      ],
      "metadata": {
        "id": "icZJ8gWlCstL",
        "colab": {
          "base_uri": "https://localhost:8080/"
        },
        "outputId": "e682baaf-c6e1-4cc0-b1ef-0745b17a1e37"
      },
      "execution_count": 72,
      "outputs": [
        {
          "output_type": "stream",
          "name": "stdout",
          "text": [
            "Number of features used during training: 46\n",
            "Number of columns in the test dataset: 22\n"
          ]
        }
      ]
    },
    {
      "cell_type": "code",
      "source": [
        "print(\"Columns in X_train after preprocessing:\", X_train.columns)\n",
        "print(\"Columns in X_test:\", X_test.columns)"
      ],
      "metadata": {
        "id": "0qJw-lfBC6gA",
        "colab": {
          "base_uri": "https://localhost:8080/"
        },
        "outputId": "f6b3c8b6-d60c-4293-d4d4-f45685faaa8a"
      },
      "execution_count": 73,
      "outputs": [
        {
          "output_type": "stream",
          "name": "stdout",
          "text": [
            "Columns in X_train after preprocessing: Index(['fecha_dato', 'ncodpers', 'ind_empleado', 'pais_residencia', 'sexo',\n",
            "       'age', 'fecha_alta', 'ind_nuevo', 'antiguedad', 'indrel', 'indrel_1mes',\n",
            "       'tiprel_1mes', 'indresi', 'indext', 'canal_entrada', 'indfall',\n",
            "       'tipodom', 'cod_prov', 'nomprov', 'ind_actividad_cliente', 'renta',\n",
            "       'segmento', 'ind_ahor_fin_ult1', 'ind_aval_fin_ult1',\n",
            "       'ind_cco_fin_ult1', 'ind_cder_fin_ult1', 'ind_cno_fin_ult1',\n",
            "       'ind_ctju_fin_ult1', 'ind_ctma_fin_ult1', 'ind_ctop_fin_ult1',\n",
            "       'ind_ctpp_fin_ult1', 'ind_deco_fin_ult1', 'ind_deme_fin_ult1',\n",
            "       'ind_dela_fin_ult1', 'ind_ecue_fin_ult1', 'ind_fond_fin_ult1',\n",
            "       'ind_hip_fin_ult1', 'ind_plan_fin_ult1', 'ind_pres_fin_ult1',\n",
            "       'ind_reca_fin_ult1', 'ind_tjcr_fin_ult1', 'ind_valo_fin_ult1',\n",
            "       'ind_viv_fin_ult1', 'ind_nomina_ult1', 'ind_nom_pens_ult1',\n",
            "       'ind_recibo_ult1'],\n",
            "      dtype='object')\n",
            "Columns in X_test: Index(['fecha_dato', 'ncodpers', 'ind_empleado', 'pais_residencia', 'sexo',\n",
            "       'age', 'fecha_alta', 'ind_nuevo', 'antiguedad', 'indrel', 'indrel_1mes',\n",
            "       'tiprel_1mes', 'indresi', 'indext', 'canal_entrada', 'indfall',\n",
            "       'tipodom', 'cod_prov', 'nomprov', 'ind_actividad_cliente', 'renta',\n",
            "       'segmento'],\n",
            "      dtype='object')\n"
          ]
        }
      ]
    },
    {
      "cell_type": "code",
      "source": [
        "common_features = list(set(X_train.columns).intersection(X_test.columns))\n",
        "\n",
        "X_train_filtered = X_train[common_features]\n",
        "X_test_filtered = X_test[common_features]\n",
        "\n",
        "print(X_train_filtered.head())\n",
        "print(X_test_filtered.head())"
      ],
      "metadata": {
        "id": "tpj9ctroHFqa",
        "colab": {
          "base_uri": "https://localhost:8080/"
        },
        "outputId": "c496978b-7469-40cd-ee33-b358d8262a73"
      },
      "execution_count": 85,
      "outputs": [
        {
          "output_type": "stream",
          "name": "stdout",
          "text": [
            "    ind_nuevo  indfall  fecha_dato  fecha_alta          renta  canal_entrada  \\\n",
            "0         0.0        0  2015-01-28  2015-01-12   87218.100000            135   \n",
            "4         0.0        0  2015-01-28  2012-08-10       5.000001            132   \n",
            "7         0.0        0  2015-01-28  2012-08-10  113316.660000            132   \n",
            "12        0.0        0  2015-01-28  2012-08-10  113538.810000            132   \n",
            "13        0.0        0  2015-01-28  2012-08-10   61605.090000            132   \n",
            "\n",
            "     age  indext  tiprel_1mes  antiguedad  ...  indrel_1mes  sexo  cod_prov  \\\n",
            "0   35.0       0            0         6.0  ...          1.0     0      29.0   \n",
            "4   23.0       0            0        35.0  ...          1.0     1      50.0   \n",
            "7   23.0       0            0        35.0  ...          1.0     0      50.0   \n",
            "12  23.0       0            0        35.0  ...          1.0     0      49.0   \n",
            "13  65.0       0            0        35.0  ...          1.0     0      50.0   \n",
            "\n",
            "    indresi  ind_empleado  indrel  pais_residencia  ind_actividad_cliente  \\\n",
            "0         1             3     1.0               28                    1.0   \n",
            "4         1             3     1.0               28                    1.0   \n",
            "7         1             3     1.0               28                    1.0   \n",
            "12        1             3     1.0               28                    1.0   \n",
            "13        1             3     1.0               28                    1.0   \n",
            "\n",
            "    tipodom   nomprov  \n",
            "0       1.0    MALAGA  \n",
            "4       1.0  ZARAGOZA  \n",
            "7       1.0  ZARAGOZA  \n",
            "12      1.0    ZAMORA  \n",
            "13      1.0  ZARAGOZA  \n",
            "\n",
            "[5 rows x 22 columns]\n",
            "   ind_nuevo  indfall  fecha_dato  fecha_alta          renta  canal_entrada  \\\n",
            "0        0.0        0  2016-06-28  1995-01-16  326124.900000             24   \n",
            "1        0.0        0  2016-06-28  2013-08-28       3.000001             24   \n",
            "2        0.0        0  2016-06-28  2013-08-28       3.999999            150   \n",
            "3        0.0        0  2016-06-28  2013-08-28  148402.980000            150   \n",
            "4        0.0        0  2016-06-28  2013-08-28  106885.800000            150   \n",
            "\n",
            "    age  indext  tiprel_1mes  antiguedad  ...  indrel_1mes  sexo  cod_prov  \\\n",
            "0  56.0       0            0       256.0  ...          1.0     1      28.0   \n",
            "1  36.0       0            1        34.0  ...          1.0     0       3.0   \n",
            "2  22.0       0            0        34.0  ...          1.0     1      15.0   \n",
            "3  22.0       0            1        34.0  ...          1.0     0       8.0   \n",
            "4  22.0       0            1        34.0  ...          1.0     0       7.0   \n",
            "\n",
            "   indresi  ind_empleado  indrel  pais_residencia  ind_actividad_cliente  \\\n",
            "0        1             2     1.0               36                    1.0   \n",
            "1        1             3     1.0               36                    0.0   \n",
            "2        1             3     1.0               36                    1.0   \n",
            "3        1             3     1.0               36                    0.0   \n",
            "4        1             3     1.0               36                    0.0   \n",
            "\n",
            "   tipodom         nomprov  \n",
            "0      1.0          MADRID  \n",
            "1      1.0        ALICANTE  \n",
            "2      1.0       CORUÑA, A  \n",
            "3      1.0       BARCELONA  \n",
            "4      1.0  BALEARS, ILLES  \n",
            "\n",
            "[5 rows x 22 columns]\n"
          ]
        }
      ]
    },
    {
      "cell_type": "code",
      "source": [
        "#import xgboost as xgb\n",
        "\n",
        "#train = xgb.DMatrix(X_train_filtered, label=y_train)\n",
        "#test = xgb.DMatrix(X_test_filtered, label=y_test)"
      ],
      "metadata": {
        "id": "Bgf-mt3UrM9w"
      },
      "execution_count": 76,
      "outputs": []
    },
    {
      "cell_type": "code",
      "source": [
        "import numpy as np\n",
        "\n",
        "print(\"Unique values in y_train:\", np.unique(y_train))\n",
        "y_train = y_train.astype(int)"
      ],
      "metadata": {
        "id": "3jeBTT6J8fcN",
        "colab": {
          "base_uri": "https://localhost:8080/"
        },
        "outputId": "df9cdccc-f68e-4b9a-ff1a-3f2105e3b02a"
      },
      "execution_count": 78,
      "outputs": [
        {
          "output_type": "stream",
          "name": "stdout",
          "text": [
            "Unique values in y_train: [ 5  6  7  8  9 10 11 12 13 14 15 16 17 18]\n"
          ]
        }
      ]
    },
    {
      "cell_type": "code",
      "source": [
        "# Subtract the minimum value from all the values in y_train to shift them to start from 0\n",
        "y_train -= y_train.min()\n",
        "\n",
        "# Print the unique values in y_train after the transformation\n",
        "print(\"Unique values in y_train after transformation:\", np.unique(y_train))\n"
      ],
      "metadata": {
        "id": "dWK3G4QV86GB",
        "colab": {
          "base_uri": "https://localhost:8080/"
        },
        "outputId": "7afef3a0-e015-40d6-ad3b-8a40edb99a5b"
      },
      "execution_count": 79,
      "outputs": [
        {
          "output_type": "stream",
          "name": "stdout",
          "text": [
            "Unique values in y_train after transformation: [ 0  1  2  3  4  5  6  7  8  9 10 11 12 13]\n"
          ]
        }
      ]
    },
    {
      "cell_type": "code",
      "source": [
        "from sklearn.model_selection import RandomizedSearchCV\n",
        "from xgboost import XGBRegressor\n",
        "import numpy as np\n",
        "\n",
        "# Define the parameter grid\n",
        "param_grid = {\n",
        "    'learning_rate': [0.01, 0.05, 0.1],\n",
        "    'max_depth': [3, 5, 7],\n",
        "    'subsample': [0.6, 0.8, 1.0],\n",
        "    'colsample_bytree': [0.6, 0.8, 1.0],\n",
        "    'gamma': [0, 0.1, 0.2],\n",
        "    'reg_alpha': [0, 0.1, 0.5],\n",
        "    'reg_lambda': [0, 0.1, 0.5]\n",
        "}\n",
        "\n",
        "# Preprocess the dataset to handle incompatible columns\n",
        "# Drop columns with incompatible data types\n",
        "X_train_subset = X_train_filtered.drop(['fecha_dato', 'fecha_alta', 'nomprov'], axis=1)\n",
        "\n",
        "# Initialize XGBoost model\n",
        "xgb_model = XGBRegressor()\n",
        "\n",
        "# Initialize RandomizedSearchCV\n",
        "random_search = RandomizedSearchCV(estimator=xgb_model, param_distributions=param_grid, n_iter=50,\n",
        "                                   scoring='neg_mean_squared_error', cv=3, n_jobs=-1, random_state=42)\n",
        "\n",
        "# Perform the random search\n",
        "random_search.fit(X_train_subset, y_train)\n",
        "\n",
        "# Get the best hyperparameters\n",
        "best_params = random_search.best_params_\n",
        "\n",
        "# Initialize XGBoost model with the best hyperparameters\n",
        "best_xgb_model = XGBRegressor(**best_params)\n",
        "\n",
        "# Train the model on the filtered training dataset\n",
        "best_xgb_model.fit(X_train_subset, y_train)\n",
        "\n",
        "# Preprocess the test dataset similarly\n",
        "X_test_subset = X_test_filtered.drop(['fecha_dato', 'fecha_alta', 'nomprov'], axis=1)\n",
        "\n",
        "# Make predictions on the test dataset\n",
        "predictions = best_xgb_model.predict(X_test_subset)\n"
      ],
      "metadata": {
        "id": "NGpo_1WV6mFL"
      },
      "execution_count": 93,
      "outputs": []
    },
    {
      "cell_type": "code",
      "source": [
        "# Make predictions on the test set\n",
        "predictions = best_xgb_model.predict(X_test_subset)"
      ],
      "metadata": {
        "id": "2xOYt-eI_kgB"
      },
      "execution_count": 99,
      "outputs": []
    },
    {
      "cell_type": "code",
      "source": [
        "from sklearn.metrics import mean_squared_error, mean_absolute_error\n",
        "\n",
        "# Calculate Mean Squared Error (MSE)\n",
        "mse = mean_squared_error(y_test, predictions)\n",
        "print(\"Mean Squared Error (MSE):\", mse)\n",
        "\n",
        "# Calculate Mean Absolute Error (MAE)\n",
        "mae = mean_absolute_error(y_test, predictions)\n",
        "print(\"Mean Absolute Error (MAE):\", mae)\n",
        "\n",
        "# Calculate R-squared\n",
        "r_squared = r2_score(y_test, predictions)\n",
        "print(\"R-squared:\", r_squared)"
      ],
      "metadata": {
        "id": "06elnLce1d8g",
        "colab": {
          "base_uri": "https://localhost:8080/"
        },
        "outputId": "cdd6460a-cdc2-4232-a5f6-95d995324b47"
      },
      "execution_count": 100,
      "outputs": [
        {
          "output_type": "stream",
          "name": "stdout",
          "text": [
            "Mean Squared Error (MSE): 5.354332437543275\n",
            "Mean Absolute Error (MAE): 2.1902204738622957\n",
            "R-squared: -17.717282507935135\n"
          ]
        }
      ]
    },
    {
      "cell_type": "code",
      "source": [
        "import numpy as np\n",
        "\n",
        "# Get feature importance scores\n",
        "feature_importance = best_xgb_model.feature_importances_\n",
        "\n",
        "# Get feature names\n",
        "feature_names = X_train_filtered.columns.tolist()\n",
        "\n",
        "# Create a dictionary to store feature importance scores for each feature\n",
        "feature_importance_dict = dict(zip(feature_names, feature_importance))\n",
        "\n",
        "# Sort feature importance scores in descending order\n",
        "sorted_feature_importance = sorted(feature_importance_dict.items(), key=lambda x: x[1], reverse=True)\n",
        "\n",
        "# Get sorted feature names and importance scores\n",
        "sorted_feature_names = [feature[0] for feature in sorted_feature_importance]\n",
        "sorted_feature_scores = [feature[1] for feature in sorted_feature_importance]\n",
        "\n",
        "# Plot sorted feature importance\n",
        "plt.figure(figsize=(10, 6))\n",
        "plt.barh(sorted_feature_names, sorted_feature_scores)\n",
        "plt.xlabel('Feature Importance')\n",
        "plt.ylabel('Features')\n",
        "plt.title('Feature Importance Plot (Sorted)')\n",
        "plt.show()\n"
      ],
      "metadata": {
        "id": "JDN0_rHSQbwj",
        "colab": {
          "base_uri": "https://localhost:8080/",
          "height": 459
        },
        "outputId": "8abdbeeb-8605-45b5-e113-594a0a7963ac"
      },
      "execution_count": 101,
      "outputs": [
        {
          "output_type": "display_data",
          "data": {
            "text/plain": [
              "<Figure size 1000x600 with 1 Axes>"
            ],
            "image/png": "[encoded data removed]"
          },
          "metadata": {}
        }
      ]
    },
    {
      "cell_type": "markdown",
      "source": [
        "Most important:\n",
        "3. `indrel_1mes`: Customer type at the beginning of the month. (1 (First/Primary customer), 2 (co-owner ),P (Potential),3 (former primary), 4(former co-owner)\n",
        "\n",
        "`ind_empleado`: Employee index: A active, B ex employed, F filial, N not employee, P pasive\n"
      ],
      "metadata": {
        "id": "t61ji5ofQvLe"
      }
    },
    {
      "cell_type": "markdown",
      "source": [
        "1. **`indrel_1mes` (Customer Type at the Beginning of the Month):**\n",
        "   - This column represents the type of relationship the customer had with the bank at the start of the month.\n",
        "   - For example:\n",
        "     - A value of 1 indicates that the customer is a first/primary customer, which typically suggests a strong and active relationship with the bank.\n",
        "     - A value of 2 indicates that the customer is a co-owner, implying a joint ownership or shared account.\n",
        "     - Values like P (Potential), 3 (former primary), and 4 (former co-owner) represent potential customers or customers who had a different relationship status in the past.\n",
        "\n",
        "2. **`ind_empleado` (Employee Index):**\n",
        "   - This column denotes the employment status of the customer, where each letter code represents a different status.\n",
        "   - For example:\n",
        "     - A (Active) indicates that the customer is currently employed and likely to have a stable income.\n",
        "     - B (Ex Employed) suggests that the customer was previously employed but is no longer working.\n",
        "     - F (Filial) indicates that the customer is an employee of the bank's subsidiary.\n",
        "     - N (Not Employee) denotes that the customer is not associated with the bank as an employee.\n",
        "     - P (Passive) suggests that the customer is passive, possibly indicating retired or inactive status.\n"
      ],
      "metadata": {
        "id": "MndPj6RYRuC6"
      }
    },
    {
      "cell_type": "markdown",
      "source": [
        "Submission"
      ],
      "metadata": {
        "id": "AlY3D8y4SGiF"
      }
    },
    {
      "cell_type": "code",
      "source": [
        "# Load the sample submission file\n",
        "sample_submission_path = \"/content/train/sample_submission.csv\"\n",
        "sample_submission = pd.read_csv(sample_submission_path)\n",
        "\n",
        "# Check the length of the sample submission and the number of users in the dataset\n",
        "print(\"Length of sample submission:\", len(sample_submission))\n",
        "print(\"Number of users in the dataset:\", len(df_test))\n",
        "\n",
        "# Ensure the lengths match by truncating or padding the predictions\n",
        "if len(sample_submission) > len(df_test):\n",
        "    # Truncate the sample submission to match the length of the test dataset\n",
        "    sample_submission = sample_submission.iloc[:len(df_test)]\n",
        "elif len(sample_submission) < len(df_test):\n",
        "    # Pad the sample submission with empty predictions\n",
        "    padding_length = len(df_test) - len(sample_submission)\n",
        "    padding = pd.DataFrame({\"ncodpers\": [np.nan] * padding_length, \"added_products\": [\"\"] * padding_length})\n",
        "    sample_submission = pd.concat([sample_submission, padding], ignore_index=True)\n",
        "\n",
        "# Save the corrected sample submission\n",
        "sample_submission.to_csv(\"corrected_sample_submission.csv\", index=False)\n"
      ],
      "metadata": {
        "id": "xTz4VbDjcr_t",
        "colab": {
          "base_uri": "https://localhost:8080/"
        },
        "outputId": "ff00f62f-0ad2-4aa0-ca36-3f77308c29a4"
      },
      "execution_count": 102,
      "outputs": [
        {
          "output_type": "stream",
          "name": "stdout",
          "text": [
            "Length of sample submission: 929615\n",
            "Number of users in the dataset: 929615\n"
          ]
        }
      ]
    },
    {
      "cell_type": "code",
      "source": [
        "import pandas as pd\n",
        "from google.colab import files\n",
        "\n",
        "def extend_submission(predictions, output_filename):\n",
        "    # Load the sample submission file\n",
        "    sample_submission_path = \"/content/train/sample_submission.csv\"\n",
        "    sample_submission = pd.read_csv(sample_submission_path)\n",
        "\n",
        "    # Save the updated sample submission file\n",
        "    output_path = f\"{output_filename}.csv\"\n",
        "    sample_submission.to_csv(output_path, index=False)\n",
        "\n",
        "    # Download the file\n",
        "    files.download(output_path)\n",
        "\n",
        "extend_submission(predictions, \"my_submission(done)\")\n"
      ],
      "metadata": {
        "id": "r_CbXbYlk9e9",
        "colab": {
          "base_uri": "https://localhost:8080/",
          "height": 17
        },
        "outputId": "bdfc887e-1db4-4e0b-8214-082f0a5ca77f"
      },
      "execution_count": 104,
      "outputs": [
        {
          "output_type": "display_data",
          "data": {
            "text/plain": [
              "<IPython.core.display.Javascript object>"
            ],
            "application/javascript": [
              "\n",
              "    async function download(id, filename, size) {\n",
              "      if (!google.colab.kernel.accessAllowed) {\n",
              "        return;\n",
              "      }\n",
              "      const div = document.createElement('div');\n",
              "      const label = document.createElement('label');\n",
              "      label.textContent = `Downloading \"${filename}\": `;\n",
              "      div.appendChild(label);\n",
              "      const progress = document.createElement('progress');\n",
              "      progress.max = size;\n",
              "      div.appendChild(progress);\n",
              "      document.body.appendChild(div);\n",
              "\n",
              "      const buffers = [];\n",
              "      let downloaded = 0;\n",
              "\n",
              "      const channel = await google.colab.kernel.comms.open(id);\n",
              "      // Send a message to notify the kernel that we're ready.\n",
              "      channel.send({})\n",
              "\n",
              "      for await (const message of channel.messages) {\n",
              "        // Send a message to notify the kernel that we're ready.\n",
              "        channel.send({})\n",
              "        if (message.buffers) {\n",
              "          for (const buffer of message.buffers) {\n",
              "            buffers.push(buffer);\n",
              "            downloaded += buffer.byteLength;\n",
              "            progress.value = downloaded;\n",
              "          }\n",
              "        }\n",
              "      }\n",
              "      const blob = new Blob(buffers, {type: 'application/binary'});\n",
              "      const a = document.createElement('a');\n",
              "      a.href = window.URL.createObjectURL(blob);\n",
              "      a.download = filename;\n",
              "      div.appendChild(a);\n",
              "      a.click();\n",
              "      div.remove();\n",
              "    }\n",
              "  "
            ]
          },
          "metadata": {}
        },
        {
          "output_type": "display_data",
          "data": {
            "text/plain": [
              "<IPython.core.display.Javascript object>"
            ],
            "application/javascript": [
              "download(\"download_9b6cc0d5-3b6b-400d-bc8d-e9c990f971b4\", \"my_submission(done).csv\", 23635845)"
            ]
          },
          "metadata": {}
        }
      ]
    },
    {
      "cell_type": "markdown",
      "source": [
        "##Citations:\n",
        "\n",
        "@misc{santander-product-recommendation,\n",
        "    author = {Meg Risdal, Mercedes Piedra, Wendy Kan},\n",
        "    title = {Santander Product Recommendation},\n",
        "    publisher = {Kaggle},\n",
        "    year = {2016},\n",
        "    url = {https://kaggle.com/competitions/santander-product-recommendation}\n",
        "}\n",
        "\n",
        "\n",
        "\n",
        "\n",
        "\"BLACKBOXAI. (2023). BLACKBOXAI: A World-Class AI Assistant. https://www.blackboxai.com/\""
      ],
      "metadata": {
        "id": "x9ABVBa5R7xC"
      }
    }
  ]
}